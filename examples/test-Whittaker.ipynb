{
 "cells": [
  {
   "cell_type": "code",
   "execution_count": 1,
   "metadata": {},
   "outputs": [],
   "source": [
    "using Revise\n",
    "using Test\n",
    "using SymbolicUtils\n",
    "\n",
    "includet(\"main_whit.jl\")\n",
    "includet(\"main_symb.jl\")\n"
   ]
  },
  {
   "cell_type": "code",
   "execution_count": 2,
   "metadata": {},
   "outputs": [
    {
     "data": {
      "text/latex": [
       "$$ \\begin{equation}\n",
       "\\left[\n",
       "\\begin{array}{c}\n",
       "y_1 \\\\\n",
       "y_2 \\\\\n",
       "y_3 \\\\\n",
       "y_4 \\\\\n",
       "y_5 \\\\\n",
       "y_6 \\\\\n",
       "\\end{array}\n",
       "\\right]\n",
       "\\end{equation}\n",
       " $$"
      ],
      "text/plain": [
       "6-element Vector{Num}:\n",
       " y₁\n",
       " y₂\n",
       " y₃\n",
       " y₄\n",
       " y₅\n",
       " y₆"
      ]
     },
     "metadata": {},
     "output_type": "display_data"
    }
   ],
   "source": [
    "function g(i, d)\n",
    "  if d == 1\n",
    "    (y[i] - y[i-d]) / (x[i] - x[i-d])\n",
    "  elseif d > 1\n",
    "    return (g(i, d - 1) - g(i - 1, d - 1)) / (x[i] - x[i-d]) #* d\n",
    "  end\n",
    "end\n",
    "\n",
    "n = 6\n",
    "p = 3\n",
    "x = Vec(:x, n)\n",
    "y = Vec(:y, n);\n",
    "\n",
    "# @variables i\n",
    "# y[i]"
   ]
  },
  {
   "cell_type": "code",
   "execution_count": 3,
   "metadata": {},
   "outputs": [
    {
     "data": {
      "text/latex": [
       "$$ \\begin{equation}\n",
       "\\left[\n",
       "\\begin{array}{cccccc}\n",
       "\\frac{ - \\frac{-1}{ - x_1 + x_2}}{ - x_1 + x_3} & \\frac{\\frac{-1}{ - x_1 + x_2} + \\frac{-1}{ - x_2 + x_3}}{ - x_1 + x_3} & \\frac{1}{\\left(  - x_1 + x_3 \\right) \\left(  - x_2 + x_3 \\right)} & 0 & 0 & 0 \\\\\n",
       "0 & \\frac{ - \\frac{-1}{ - x_2 + x_3}}{ - x_2 + x_4} & \\frac{\\frac{-1}{ - x_3 + x_4} + \\frac{-1}{ - x_2 + x_3}}{ - x_2 + x_4} & \\frac{1}{\\left(  - x_2 + x_4 \\right) \\left(  - x_3 + x_4 \\right)} & 0 & 0 \\\\\n",
       "0 & 0 & \\frac{ - \\frac{-1}{ - x_3 + x_4}}{ - x_3 + x_5} & \\frac{\\frac{-1}{ - x_3 + x_4} + \\frac{-1}{ - x_4 + x_5}}{ - x_3 + x_5} & \\frac{1}{\\left(  - x_3 + x_5 \\right) \\left(  - x_4 + x_5 \\right)} & 0 \\\\\n",
       "0 & 0 & 0 & \\frac{ - \\frac{-1}{ - x_4 + x_5}}{ - x_4 + x_6} & \\frac{\\frac{-1}{ - x_4 + x_5} + \\frac{-1}{ - x_5 + x_6}}{ - x_4 + x_6} & \\frac{1}{\\left(  - x_4 + x_6 \\right) \\left(  - x_5 + x_6 \\right)} \\\\\n",
       "\\end{array}\n",
       "\\right]\n",
       "\\end{equation}\n",
       " $$"
      ],
      "text/plain": [
       "4×6 Matrix{Num}:\n",
       " (-(-1 / (-x₁ + x₂))) / (-x₁ + x₃)  …                            0\n",
       "                                 0                               0\n",
       "                                 0                               0\n",
       "                                 0     1 / ((-x₄ + x₆)*(-x₅ + x₆))"
      ]
     },
     "metadata": {},
     "output_type": "display_data"
    }
   ],
   "source": [
    "ddmat_full(x, 2)"
   ]
  },
  {
   "cell_type": "code",
   "execution_count": 5,
   "metadata": {},
   "outputs": [
    {
     "data": {
      "text/latex": [
       "$$ \\begin{equation}\n",
       "\\left[\n",
       "\\begin{array}{cccccc}\n",
       "0 & 0 & 0 & 0 & 0 & 0 \\\\\n",
       "0 & 0 & 0 & 0 & 0 & 0 \\\\\n",
       "0 & 0 & 0 & 0 & 0 & 0 \\\\\n",
       "\\end{array}\n",
       "\\right]\n",
       "\\end{equation}\n",
       " $$"
      ],
      "text/plain": [
       "3×6 Matrix{Num}:\n",
       " 0  0  0  0  0  0\n",
       " 0  0  0  0  0  0\n",
       " 0  0  0  0  0  0"
      ]
     },
     "metadata": {},
     "output_type": "display_data"
    }
   ],
   "source": [
    "d = 3\n",
    "Matrix(ddmat(x, d)) - ddmat_full(x, d)"
   ]
  },
  {
   "cell_type": "code",
   "execution_count": 42,
   "metadata": {},
   "outputs": [
    {
     "data": {
      "text/latex": [
       "$$ \\begin{equation}\n",
       "\\left[\n",
       "\\begin{array}{cccccc}\n",
       "0 & 0 & 0 & 0 & 0 & 0 \\\\\n",
       "0 & 0 & 0 & 0 & 0 & 0 \\\\\n",
       "\\end{array}\n",
       "\\right]\n",
       "\\end{equation}\n",
       " $$"
      ],
      "text/plain": [
       "2×6 Matrix{Num}:\n",
       " 0  0  0  0  0  0\n",
       " 0  0  0  0  0  0"
      ]
     },
     "metadata": {},
     "output_type": "display_data"
    }
   ],
   "source": [
    "d = 4\n",
    "Matrix(ddmat_band(x, d)) - ddmat_full(x, d)"
   ]
  },
  {
   "cell_type": "code",
   "execution_count": 45,
   "metadata": {},
   "outputs": [],
   "source": [
    "\n"
   ]
  },
  {
   "cell_type": "code",
   "execution_count": 17,
   "metadata": {},
   "outputs": [
    {
     "data": {
      "text/latex": [
       "$$ \\begin{equation}\n",
       "\\left[\n",
       "\\begin{array}{ccccccc}\n",
       "a_{1}ˏ_1 & a_{1}ˏ_2 & a_{1}ˏ_3 & a_{1}ˏ_4 & 0 & 0 & 0 \\\\\n",
       "0 & a_{2}ˏ_2 & a_{2}ˏ_3 & a_{2}ˏ_4 & a_{2}ˏ_5 & 0 & 0 \\\\\n",
       "0 & 0 & a_{3}ˏ_3 & a_{3}ˏ_4 & a_{3}ˏ_5 & a_{3}ˏ_6 & 0 \\\\\n",
       "0 & 0 & 0 & a_{4}ˏ_4 & a_{4}ˏ_5 & a_{4}ˏ_6 & a_{4}ˏ_7 \\\\\n",
       "0 & 0 & 0 & 0 & a_{5}ˏ_5 & a_{5}ˏ_6 & a_{5}ˏ_7 \\\\\n",
       "0 & 0 & 0 & 0 & 0 & a_{6}ˏ_6 & a_{6}ˏ_7 \\\\\n",
       "0 & 0 & 0 & 0 & 0 & 0 & a_{7}ˏ_7 \\\\\n",
       "\\end{array}\n",
       "\\right]\n",
       "\\end{equation}\n",
       " $$"
      ],
      "text/plain": [
       "7×7 Matrix{Num}:\n",
       " a₁ˏ₁  a₁ˏ₂  a₁ˏ₃  a₁ˏ₄     0     0     0\n",
       "    0  a₂ˏ₂  a₂ˏ₃  a₂ˏ₄  a₂ˏ₅     0     0\n",
       "    0     0  a₃ˏ₃  a₃ˏ₄  a₃ˏ₅  a₃ˏ₆     0\n",
       "    0     0     0  a₄ˏ₄  a₄ˏ₅  a₄ˏ₆  a₄ˏ₇\n",
       "    0     0     0     0  a₅ˏ₅  a₅ˏ₆  a₅ˏ₇\n",
       "    0     0     0     0     0  a₆ˏ₆  a₆ˏ₇\n",
       "    0     0     0     0     0     0  a₇ˏ₇"
      ]
     },
     "metadata": {},
     "output_type": "display_data"
    }
   ],
   "source": [
    "a = Mat(:a, 7)\n",
    "force_band!(a, 2, 3)\n",
    "force_upper!(a)\n",
    "a"
   ]
  },
  {
   "cell_type": "code",
   "execution_count": 18,
   "metadata": {},
   "outputs": [
    {
     "data": {
      "text/latex": [
       "$$ \\begin{equation}\n",
       "\\left[\n",
       "\\begin{array}{cccc}\n",
       "a_{1}ˏ_1 & a_{1}ˏ_2 & a_{1}ˏ_3 & a_{1}ˏ_4 \\\\\n",
       "a_{2}ˏ_2 & a_{2}ˏ_3 & a_{2}ˏ_4 & a_{2}ˏ_5 \\\\\n",
       "a_{3}ˏ_3 & a_{3}ˏ_4 & a_{3}ˏ_5 & a_{3}ˏ_6 \\\\\n",
       "a_{4}ˏ_4 & a_{4}ˏ_5 & a_{4}ˏ_6 & a_{4}ˏ_7 \\\\\n",
       "a_{5}ˏ_5 & a_{5}ˏ_6 & a_{5}ˏ_7 & 0 \\\\\n",
       "a_{6}ˏ_6 & a_{6}ˏ_7 & 0 & 0 \\\\\n",
       "a_{7}ˏ_7 & 0 & 0 & 0 \\\\\n",
       "\\end{array}\n",
       "\\right]\n",
       "\\end{equation}\n",
       " $$"
      ],
      "text/plain": [
       "7×4 Matrix{Num}:\n",
       " a₁ˏ₁  a₁ˏ₂  a₁ˏ₃  a₁ˏ₄\n",
       " a₂ˏ₂  a₂ˏ₃  a₂ˏ₄  a₂ˏ₅\n",
       " a₃ˏ₃  a₃ˏ₄  a₃ˏ₅  a₃ˏ₆\n",
       " a₄ˏ₄  a₄ˏ₅  a₄ˏ₆  a₄ˏ₇\n",
       " a₅ˏ₅  a₅ˏ₆  a₅ˏ₇     0\n",
       " a₆ˏ₆  a₆ˏ₇     0     0\n",
       " a₇ˏ₇     0     0     0"
      ]
     },
     "metadata": {},
     "output_type": "display_data"
    },
    {
     "data": {
      "text/plain": [
       "\u001b[32m\u001b[4mBandedMat{Num}, size=(7, 7), bandwidth=(0, 3), zipped=true\u001b[24m\u001b[39m\n"
      ]
     },
     "metadata": {},
     "output_type": "display_data"
    }
   ],
   "source": [
    "U = BandedMat(a, 0, 3; zipped=false)\n",
    "# D = ddmat_band(x, d)\n",
    "# 上三角\n",
    "# D' * D"
   ]
  },
  {
   "cell_type": "code",
   "execution_count": 33,
   "metadata": {},
   "outputs": [
    {
     "data": {
      "text/latex": [
       "$$ \\begin{equation}\n",
       "\\left[\n",
       "\\begin{array}{ccccccc}\n",
       "a_{1}ˏ_1^{2} & 0 & 0 & 0 & 0 & 0 & 0 \\\\\n",
       "a_{1}ˏ_1 a_{1}ˏ_2 & a_{1}ˏ_2^{2} + a_{2}ˏ_2^{2} & 0 & 0 & 0 & 0 & 0 \\\\\n",
       "a_{1}ˏ_1 a_{1}ˏ_3 & a_{1}ˏ_2 a_{1}ˏ_3 + a_{2}ˏ_2 a_{2}ˏ_3 & a_{1}ˏ_3^{2} + a_{2}ˏ_3^{2} + a_{3}ˏ_3^{2} & 0 & 0 & 0 & 0 \\\\\n",
       "a_{1}ˏ_1 a_{1}ˏ_4 & a_{1}ˏ_2 a_{1}ˏ_4 + a_{2}ˏ_2 a_{2}ˏ_4 & a_{1}ˏ_3 a_{1}ˏ_4 + a_{2}ˏ_3 a_{2}ˏ_4 + a_{3}ˏ_3 a_{3}ˏ_4 & a_{1}ˏ_4^{2} + a_{2}ˏ_4^{2} + a_{3}ˏ_4^{2} + a_{4}ˏ_4^{2} & 0 & 0 & 0 \\\\\n",
       "0 & a_{2}ˏ_2 a_{2}ˏ_5 & a_{2}ˏ_3 a_{2}ˏ_5 + a_{3}ˏ_3 a_{3}ˏ_5 & a_{2}ˏ_4 a_{2}ˏ_5 + a_{3}ˏ_4 a_{3}ˏ_5 + a_{4}ˏ_4 a_{4}ˏ_5 & a_{2}ˏ_5^{2} + a_{3}ˏ_5^{2} + a_{4}ˏ_5^{2} + a_{5}ˏ_5^{2} & 0 & 0 \\\\\n",
       "0 & 0 & a_{3}ˏ_3 a_{3}ˏ_6 & a_{3}ˏ_4 a_{3}ˏ_6 + a_{4}ˏ_4 a_{4}ˏ_6 & a_{3}ˏ_5 a_{3}ˏ_6 + a_{4}ˏ_5 a_{4}ˏ_6 + a_{5}ˏ_5 a_{5}ˏ_6 & a_{3}ˏ_6^{2} + a_{4}ˏ_6^{2} + a_{5}ˏ_6^{2} + a_{6}ˏ_6^{2} & 0 \\\\\n",
       "0 & 0 & 0 & a_{4}ˏ_4 a_{4}ˏ_7 & a_{4}ˏ_5 a_{4}ˏ_7 + a_{5}ˏ_5 a_{5}ˏ_7 & a_{4}ˏ_6 a_{4}ˏ_7 + a_{5}ˏ_6 a_{5}ˏ_7 + a_{6}ˏ_6 a_{6}ˏ_7 & a_{4}ˏ_7^{2} + a_{5}ˏ_7^{2} + a_{6}ˏ_7^{2} + a_{7}ˏ_7^{2} \\\\\n",
       "\\end{array}\n",
       "\\right]\n",
       "\\end{equation}\n",
       " $$"
      ],
      "text/plain": [
       "7×7 Matrix{Num}:\n",
       "    a₁ˏ₁^2                      0  …                                  0\n",
       " a₁ˏ₁*a₁ˏ₂        a₁ˏ₂^2 + a₂ˏ₂^2                                     0\n",
       " a₁ˏ₁*a₁ˏ₃  a₁ˏ₂*a₁ˏ₃ + a₂ˏ₂*a₂ˏ₃                                     0\n",
       " a₁ˏ₁*a₁ˏ₄  a₁ˏ₂*a₁ˏ₄ + a₂ˏ₂*a₂ˏ₄                                     0\n",
       "         0              a₂ˏ₂*a₂ˏ₅                                     0\n",
       "         0                      0  …                                  0\n",
       "         0                      0     a₄ˏ₇^2 + a₅ˏ₇^2 + a₆ˏ₇^2 + a₇ˏ₇^2"
      ]
     },
     "metadata": {},
     "output_type": "display_data"
    }
   ],
   "source": [
    "r = force_lower!(a' * a)"
   ]
  },
  {
   "cell_type": "code",
   "execution_count": 41,
   "metadata": {},
   "outputs": [
    {
     "data": {
      "text/latex": [
       "$$ \\begin{equation}\n",
       "\\left[\n",
       "\\begin{array}{ccccccc}\n",
       "0 & 0 & 0 & 0 & 0 & 0 & 0 \\\\\n",
       "0 & 0 & 0 & 0 & 0 & 0 & 0 \\\\\n",
       "0 & 0 & 0 & 0 & 0 & 0 & 0 \\\\\n",
       "0 & 0 & 0 & 0 & 0 & 0 & 0 \\\\\n",
       "0 & 0 & 0 & 0 & 0 & 0 & 0 \\\\\n",
       "0 & 0 & 0 & 0 & 0 & 0 & 0 \\\\\n",
       "0 & 0 & 0 & 0 & 0 & 0 & 0 \\\\\n",
       "\\end{array}\n",
       "\\right]\n",
       "\\end{equation}\n",
       " $$"
      ],
      "text/plain": [
       "7×7 Matrix{Num}:\n",
       " 0  0  0  0  0  0  0\n",
       " 0  0  0  0  0  0  0\n",
       " 0  0  0  0  0  0  0\n",
       " 0  0  0  0  0  0  0\n",
       " 0  0  0  0  0  0  0\n",
       " 0  0  0  0  0  0  0\n",
       " 0  0  0  0  0  0  0"
      ]
     },
     "metadata": {},
     "output_type": "display_data"
    }
   ],
   "source": [
    "r2 = U_sq(U)\n",
    "Matrix(r2) - r\n"
   ]
  },
  {
   "cell_type": "code",
   "execution_count": 96,
   "metadata": {},
   "outputs": [
    {
     "data": {
      "text/latex": [
       "$$ \\begin{equation}\n",
       "\\left[\n",
       "\\begin{array}{c}\n",
       "\\frac{\\frac{\\frac{ - y_3 + y_4}{ - x_3 + x_4} + \\frac{y_2 - y_3}{ - x_2 + x_3}}{ - x_2 + x_4} + \\frac{\\frac{ - y_1 + y_2}{ - x_1 + x_2} + \\frac{y_2 - y_3}{ - x_2 + x_3}}{ - x_1 + x_3}}{ - x_1 + x_4} \\\\\n",
       "\\frac{\\frac{\\frac{ - y_2 + y_3}{ - x_2 + x_3} + \\frac{y_3 - y_4}{ - x_3 + x_4}}{ - x_2 + x_4} + \\frac{\\frac{y_3 - y_4}{ - x_3 + x_4} + \\frac{ - y_4 + y_5}{ - x_4 + x_5}}{ - x_3 + x_5}}{ - x_2 + x_5} \\\\\n",
       "\\frac{\\frac{\\frac{ - y_5 + y_6}{ - x_5 + x_6} + \\frac{y_4 - y_5}{ - x_4 + x_5}}{ - x_4 + x_6} + \\frac{\\frac{ - y_3 + y_4}{ - x_3 + x_4} + \\frac{y_4 - y_5}{ - x_4 + x_5}}{ - x_3 + x_5}}{ - x_3 + x_6} \\\\\n",
       "\\end{array}\n",
       "\\right]\n",
       "\\end{equation}\n",
       " $$"
      ],
      "text/plain": [
       "3-element Vector{Num}:\n",
       " (((-y₃ + y₄) / (-x₃ + x₄) + (y₂ - y₃) / (-x₂ + x₃)) / (-x₂ + x₄) + ((-y₁ + y₂) / (-x₁ + x₂) + (y₂ - y₃) / (-x₂ + x₃)) / (-x₁ + x₃)) / (-x₁ + x₄)\n",
       " (((-y₂ + y₃) / (-x₂ + x₃) + (y₃ - y₄) / (-x₃ + x₄)) / (-x₂ + x₄) + ((y₃ - y₄) / (-x₃ + x₄) + (-y₄ + y₅) / (-x₄ + x₅)) / (-x₃ + x₅)) / (-x₂ + x₅)\n",
       " (((-y₅ + y₆) / (-x₅ + x₆) + (y₄ - y₅) / (-x₄ + x₅)) / (-x₄ + x₆) + ((-y₃ + y₄) / (-x₃ + x₄) + (y₄ - y₅) / (-x₄ + x₅)) / (-x₃ + x₅)) / (-x₃ + x₆)"
      ]
     },
     "metadata": {},
     "output_type": "display_data"
    }
   ],
   "source": [
    "g.(p+1:n, p) # 需要进一步将y分解为三项\n"
   ]
  },
  {
   "cell_type": "code",
   "execution_count": 93,
   "metadata": {},
   "outputs": [
    {
     "data": {
      "text/latex": [
       "$$ \\begin{equation}\n",
       "\\left[\n",
       "\\begin{array}{cccccc}\n",
       "a_{1}ˏ_1 x_1 & a_{1}ˏ_2 x_1 & a_{1}ˏ_3 x_1 & a_{1}ˏ_4 x_1 & a_{1}ˏ_5 x_1 & a_{1}ˏ_6 x_1 \\\\\n",
       "a_{2}ˏ_1 x_2 & a_{2}ˏ_2 x_2 & a_{2}ˏ_3 x_2 & a_{2}ˏ_4 x_2 & a_{2}ˏ_5 x_2 & a_{2}ˏ_6 x_2 \\\\\n",
       "a_{3}ˏ_1 x_3 & a_{3}ˏ_2 x_3 & a_{3}ˏ_3 x_3 & a_{3}ˏ_4 x_3 & a_{3}ˏ_5 x_3 & a_{3}ˏ_6 x_3 \\\\\n",
       "a_{4}ˏ_1 x_4 & a_{4}ˏ_2 x_4 & a_{4}ˏ_3 x_4 & a_{4}ˏ_4 x_4 & a_{4}ˏ_5 x_4 & a_{4}ˏ_6 x_4 \\\\\n",
       "a_{5}ˏ_1 x_5 & a_{5}ˏ_2 x_5 & a_{5}ˏ_3 x_5 & a_{5}ˏ_4 x_5 & a_{5}ˏ_5 x_5 & a_{5}ˏ_6 x_5 \\\\\n",
       "a_{6}ˏ_1 x_6 & a_{6}ˏ_2 x_6 & a_{6}ˏ_3 x_6 & a_{6}ˏ_4 x_6 & a_{6}ˏ_5 x_6 & a_{6}ˏ_6 x_6 \\\\\n",
       "\\end{array}\n",
       "\\right]\n",
       "\\end{equation}\n",
       " $$"
      ],
      "text/plain": [
       "6×6 Matrix{Num}:\n",
       " a₁ˏ₁*x₁  a₁ˏ₂*x₁  a₁ˏ₃*x₁  a₁ˏ₄*x₁  a₁ˏ₅*x₁  a₁ˏ₆*x₁\n",
       " a₂ˏ₁*x₂  a₂ˏ₂*x₂  a₂ˏ₃*x₂  a₂ˏ₄*x₂  a₂ˏ₅*x₂  a₂ˏ₆*x₂\n",
       " a₃ˏ₁*x₃  a₃ˏ₂*x₃  a₃ˏ₃*x₃  a₃ˏ₄*x₃  a₃ˏ₅*x₃  a₃ˏ₆*x₃\n",
       " a₄ˏ₁*x₄  a₄ˏ₂*x₄  a₄ˏ₃*x₄  a₄ˏ₄*x₄  a₄ˏ₅*x₄  a₄ˏ₆*x₄\n",
       " a₅ˏ₁*x₅  a₅ˏ₂*x₅  a₅ˏ₃*x₅  a₅ˏ₄*x₅  a₅ˏ₅*x₅  a₅ˏ₆*x₅\n",
       " a₆ˏ₁*x₆  a₆ˏ₂*x₆  a₆ˏ₃*x₆  a₆ˏ₄*x₆  a₆ˏ₅*x₆  a₆ˏ₆*x₆"
      ]
     },
     "metadata": {},
     "output_type": "display_data"
    }
   ],
   "source": [
    "a = Mat(:a, n) ## 每一行均乘\n",
    "diagm(x) * a"
   ]
  },
  {
   "cell_type": "code",
   "execution_count": 89,
   "metadata": {},
   "outputs": [
    {
     "data": {
      "text/latex": [
       "$$ \\begin{equation}\n",
       "\\left[\n",
       "\\begin{array}{ccc}\n",
       "\\frac{ - \\frac{-1}{ - x_1 + x_2}}{ - x_1 + x_3} & \\frac{\\frac{-1}{ - x_1 + x_2} + \\frac{-1}{ - x_2 + x_3}}{ - x_1 + x_3} & \\frac{1}{\\left(  - x_1 + x_3 \\right) \\left(  - x_2 + x_3 \\right)} \\\\\n",
       "\\frac{ - \\frac{-1}{ - x_2 + x_3}}{ - x_2 + x_4} & \\frac{\\frac{-1}{ - x_3 + x_4} + \\frac{-1}{ - x_2 + x_3}}{ - x_2 + x_4} & \\frac{1}{\\left(  - x_2 + x_4 \\right) \\left(  - x_3 + x_4 \\right)} \\\\\n",
       "\\frac{ - \\frac{-1}{ - x_3 + x_4}}{ - x_3 + x_5} & \\frac{\\frac{-1}{ - x_3 + x_4} + \\frac{-1}{ - x_4 + x_5}}{ - x_3 + x_5} & \\frac{1}{\\left(  - x_3 + x_5 \\right) \\left(  - x_4 + x_5 \\right)} \\\\\n",
       "\\frac{ - \\frac{-1}{ - x_4 + x_5}}{ - x_4 + x_6} & \\frac{\\frac{-1}{ - x_4 + x_5} + \\frac{-1}{ - x_5 + x_6}}{ - x_4 + x_6} & \\frac{1}{\\left(  - x_4 + x_6 \\right) \\left(  - x_5 + x_6 \\right)} \\\\\n",
       "\\end{array}\n",
       "\\right]\n",
       "\\end{equation}\n",
       " $$"
      ],
      "text/plain": [
       "4×3 Matrix{Num}:\n",
       " (-(-1 / (-x₁ + x₂))) / (-x₁ + x₃)  …  1 / ((-x₁ + x₃)*(-x₂ + x₃))\n",
       " (-(-1 / (-x₂ + x₃))) / (-x₂ + x₄)     1 / ((-x₂ + x₄)*(-x₃ + x₄))\n",
       " (-(-1 / (-x₃ + x₄))) / (-x₃ + x₅)     1 / ((-x₃ + x₅)*(-x₄ + x₅))\n",
       " (-(-1 / (-x₄ + x₅))) / (-x₄ + x₆)     1 / ((-x₄ + x₆)*(-x₅ + x₆))"
      ]
     },
     "metadata": {},
     "output_type": "display_data"
    },
    {
     "data": {
      "text/plain": [
       "\u001b[32m\u001b[4mBandedMat{Num}, size=(4, 6), bandwidth=(0, 2), zipped=true\u001b[24m\u001b[39m\n"
      ]
     },
     "metadata": {},
     "output_type": "display_data"
    }
   ],
   "source": [
    "p = 2\n",
    "D = ddmat(x, p) |> Matrix\n",
    "simplify(D)\n",
    "# r = BandedMat(D, 0, p; zipped=false)\n",
    "BandedMat(D, 0, p; zipped=false)"
   ]
  },
  {
   "cell_type": "code",
   "execution_count": 88,
   "metadata": {},
   "outputs": [
    {
     "data": {
      "text/latex": [
       "$$ \\begin{equation}\n",
       "\\left[\n",
       "\\begin{array}{cccc}\n",
       "\\frac{ - \\frac{ - \\frac{-1}{ - x_1 + x_2}}{ - x_1 + x_3}}{ - x_1 + x_4} & \\frac{\\frac{\\frac{1}{ - x_1 + x_2} + \\frac{1}{ - x_2 + x_3}}{ - x_1 + x_3} + \\frac{ - \\frac{-1}{ - x_2 + x_3}}{ - x_2 + x_4}}{ - x_1 + x_4} & \\frac{\\frac{-1}{\\left(  - x_1 + x_3 \\right) \\left(  - x_2 + x_3 \\right)} + \\frac{\\frac{-1}{ - x_3 + x_4} + \\frac{-1}{ - x_2 + x_3}}{ - x_2 + x_4}}{ - x_1 + x_4} & \\frac{1}{\\left(  - x_1 + x_4 \\right) \\left(  - x_2 + x_4 \\right) \\left(  - x_3 + x_4 \\right)} \\\\\n",
       "\\frac{ - \\frac{ - \\frac{-1}{ - x_2 + x_3}}{ - x_2 + x_4}}{ - x_2 + x_5} & \\frac{\\frac{ - \\frac{-1}{ - x_3 + x_4}}{ - x_3 + x_5} + \\frac{\\frac{1}{ - x_3 + x_4} + \\frac{1}{ - x_2 + x_3}}{ - x_2 + x_4}}{ - x_2 + x_5} & \\frac{\\frac{\\frac{-1}{ - x_3 + x_4} + \\frac{-1}{ - x_4 + x_5}}{ - x_3 + x_5} + \\frac{-1}{\\left(  - x_2 + x_4 \\right) \\left(  - x_3 + x_4 \\right)}}{ - x_2 + x_5} & \\frac{1}{\\left(  - x_2 + x_5 \\right) \\left(  - x_3 + x_5 \\right) \\left(  - x_4 + x_5 \\right)} \\\\\n",
       "\\frac{ - \\frac{ - \\frac{-1}{ - x_3 + x_4}}{ - x_3 + x_5}}{ - x_3 + x_6} & \\frac{\\frac{ - \\frac{-1}{ - x_4 + x_5}}{ - x_4 + x_6} + \\frac{\\frac{1}{ - x_4 + x_5} + \\frac{1}{ - x_3 + x_4}}{ - x_3 + x_5}}{ - x_3 + x_6} & \\frac{\\frac{\\frac{-1}{ - x_4 + x_5} + \\frac{-1}{ - x_5 + x_6}}{ - x_4 + x_6} + \\frac{-1}{\\left(  - x_3 + x_5 \\right) \\left(  - x_4 + x_5 \\right)}}{ - x_3 + x_6} & \\frac{1}{\\left(  - x_3 + x_6 \\right) \\left(  - x_4 + x_6 \\right) \\left(  - x_5 + x_6 \\right)} \\\\\n",
       "\\end{array}\n",
       "\\right]\n",
       "\\end{equation}\n",
       " $$"
      ],
      "text/plain": [
       "3×4 Matrix{Num}:\n",
       " (-((-(-1 / (-x₁ + x₂))) / (-x₁ + x₃))) / (-x₁ + x₄)  …  1 / ((-x₁ + x₄)*(-x₂ + x₄)*(-x₃ + x₄))\n",
       " (-((-(-1 / (-x₂ + x₃))) / (-x₂ + x₄))) / (-x₂ + x₅)     1 / ((-x₂ + x₅)*(-x₃ + x₅)*(-x₄ + x₅))\n",
       " (-((-(-1 / (-x₃ + x₄))) / (-x₃ + x₅))) / (-x₃ + x₆)     1 / ((-x₃ + x₆)*(-x₄ + x₆)*(-x₅ + x₆))"
      ]
     },
     "metadata": {},
     "output_type": "display_data"
    },
    {
     "data": {
      "text/plain": [
       "\u001b[32m\u001b[4mBandedMat{Num}, size=(3, 6), bandwidth=(0, 3), zipped=true\u001b[24m\u001b[39m\n"
      ]
     },
     "metadata": {},
     "output_type": "display_data"
    }
   ],
   "source": []
  },
  {
   "cell_type": "code",
   "execution_count": 10,
   "metadata": {},
   "outputs": [
    {
     "ename": "MethodError",
     "evalue": "MethodError: no method matching size(::BandedMat{Num}, ::Int64)\n\nClosest candidates are:\n  size(!Matched::BitVector, ::Integer)\n   @ Base bitarray.jl:107\n  size(!Matched::Type{<:Diagonal{T, StaticArraysCore.SVector{N, T}} where T}, ::Int64) where N\n   @ StaticArrays C:\\Users\\kongdd\\.julia\\packages\\StaticArrays\\EHHaF\\src\\SDiagonal.jl:18\n  size(!Matched::Type{<:Union{Adjoint{T, <:Union{StaticArraysCore.StaticArray{Tuple{var\"#s2\"}, T, 1} where var\"#s2\", StaticArraysCore.StaticArray{Tuple{var\"#s3\", var\"#s4\"}, T, 2} where {var\"#s3\", var\"#s4\"}}}, Diagonal{T, <:StaticArraysCore.StaticArray{Tuple{var\"#s14\"}, T, 1} where var\"#s14\"}, Hermitian{T, <:StaticArraysCore.StaticArray{Tuple{var\"#s11\", var\"#s12\"}, T, 2} where {var\"#s11\", var\"#s12\"}}, LowerTriangular{T, <:StaticArraysCore.StaticArray{Tuple{var\"#s19\", var\"#s20\"}, T, 2} where {var\"#s19\", var\"#s20\"}}, Symmetric{T, <:StaticArraysCore.StaticArray{Tuple{var\"#s8\", var\"#s9\"}, T, 2} where {var\"#s8\", var\"#s9\"}}, Transpose{T, <:Union{StaticArraysCore.StaticArray{Tuple{var\"#s2\"}, T, 1} where var\"#s2\", StaticArraysCore.StaticArray{Tuple{var\"#s3\", var\"#s4\"}, T, 2} where {var\"#s3\", var\"#s4\"}}}, UnitLowerTriangular{T, <:StaticArraysCore.StaticArray{Tuple{var\"#s25\", var\"#s26\"}, T, 2} where {var\"#s25\", var\"#s26\"}}, UnitUpperTriangular{T, <:StaticArraysCore.StaticArray{Tuple{var\"#s22\", var\"#s23\"}, T, 2} where {var\"#s22\", var\"#s23\"}}, UpperTriangular{T, <:StaticArraysCore.StaticArray{Tuple{var\"#s16\", var\"#s17\"}, T, 2} where {var\"#s16\", var\"#s17\"}}, StaticArraysCore.StaticArray{Tuple{var\"#s26\"}, T, 1} where var\"#s26\", StaticArraysCore.StaticArray{Tuple{var\"#s1\", var\"#s4\"}, T, 2} where {var\"#s1\", var\"#s4\"}, StaticArraysCore.StaticArray{<:Tuple, T}} where T}, ::Int64)\n   @ StaticArrays C:\\Users\\kongdd\\.julia\\packages\\StaticArrays\\EHHaF\\src\\abstractarray.jl:5\n  ...\n",
     "output_type": "error",
     "traceback": [
      "MethodError: no method matching size(::BandedMat{Num}, ::Int64)\n",
      "\n",
      "Closest candidates are:\n",
      "  size(!Matched::BitVector, ::Integer)\n",
      "   @ Base bitarray.jl:107\n",
      "  size(!Matched::Type{<:Diagonal{T, StaticArraysCore.SVector{N, T}} where T}, ::Int64) where N\n",
      "   @ StaticArrays C:\\Users\\kongdd\\.julia\\packages\\StaticArrays\\EHHaF\\src\\SDiagonal.jl:18\n",
      "  size(!Matched::Type{<:Union{Adjoint{T, <:Union{StaticArraysCore.StaticArray{Tuple{var\"#s2\"}, T, 1} where var\"#s2\", StaticArraysCore.StaticArray{Tuple{var\"#s3\", var\"#s4\"}, T, 2} where {var\"#s3\", var\"#s4\"}}}, Diagonal{T, <:StaticArraysCore.StaticArray{Tuple{var\"#s14\"}, T, 1} where var\"#s14\"}, Hermitian{T, <:StaticArraysCore.StaticArray{Tuple{var\"#s11\", var\"#s12\"}, T, 2} where {var\"#s11\", var\"#s12\"}}, LowerTriangular{T, <:StaticArraysCore.StaticArray{Tuple{var\"#s19\", var\"#s20\"}, T, 2} where {var\"#s19\", var\"#s20\"}}, Symmetric{T, <:StaticArraysCore.StaticArray{Tuple{var\"#s8\", var\"#s9\"}, T, 2} where {var\"#s8\", var\"#s9\"}}, Transpose{T, <:Union{StaticArraysCore.StaticArray{Tuple{var\"#s2\"}, T, 1} where var\"#s2\", StaticArraysCore.StaticArray{Tuple{var\"#s3\", var\"#s4\"}, T, 2} where {var\"#s3\", var\"#s4\"}}}, UnitLowerTriangular{T, <:StaticArraysCore.StaticArray{Tuple{var\"#s25\", var\"#s26\"}, T, 2} where {var\"#s25\", var\"#s26\"}}, UnitUpperTriangular{T, <:StaticArraysCore.StaticArray{Tuple{var\"#s22\", var\"#s23\"}, T, 2} where {var\"#s22\", var\"#s23\"}}, UpperTriangular{T, <:StaticArraysCore.StaticArray{Tuple{var\"#s16\", var\"#s17\"}, T, 2} where {var\"#s16\", var\"#s17\"}}, StaticArraysCore.StaticArray{Tuple{var\"#s26\"}, T, 1} where var\"#s26\", StaticArraysCore.StaticArray{Tuple{var\"#s1\", var\"#s4\"}, T, 2} where {var\"#s1\", var\"#s4\"}, StaticArraysCore.StaticArray{<:Tuple, T}} where T}, ::Int64)\n",
      "   @ StaticArrays C:\\Users\\kongdd\\.julia\\packages\\StaticArrays\\EHHaF\\src\\abstractarray.jl:5\n",
      "  ...\n",
      "\n",
      "\n",
      "Stacktrace:\n",
      " [1] transpose(x::BandedMat{Num})\n",
      "   @ BandedMats c:\\Users\\kongdd\\GitHub\\jl-pkgs\\BandMatrix.jl\\src\\utilize.jl:26\n",
      " [2] adjoint(x::BandedMat{Num})\n",
      "   @ BandedMats c:\\Users\\kongdd\\GitHub\\jl-pkgs\\BandMatrix.jl\\src\\utilize.jl:42\n",
      " [3] top-level scope\n",
      "   @ c:\\Users\\kongdd\\GitHub\\jl-pkgs\\BandMatrix.jl\\debug\\test-Whittaker.ipynb:2"
     ]
    }
   ],
   "source": [
    "BD = BandedMat(D, 0, 3; zipped=false)\n",
    "BD'"
   ]
  },
  {
   "cell_type": "code",
   "execution_count": 9,
   "metadata": {},
   "outputs": [
    {
     "data": {
      "text/latex": [
       "$$ \\begin{equation}\n",
       "\\left[\n",
       "\\begin{array}{cccc}\n",
       "0 & 0 & 0 &  - x_1 \\\\\n",
       "0 & 0 & 3 x_2 &  - x_2 \\\\\n",
       "0 &  - 3 x_3 & 3 x_3 &  - x_3 \\\\\n",
       "x_4 &  - 3 x_4 & 3 x_4 &  - x_4 \\\\\n",
       "x_5 &  - 3 x_5 & 3 x_5 &  - x_5 \\\\\n",
       "x_6 &  - 3 x_6 & 3 x_6 &  - x_6 \\\\\n",
       "x_7 &  - 3 x_7 & 3 x_7 &  - x_7 \\\\\n",
       "x_8 &  - 3 x_8 & 3 x_8 & 0 \\\\\n",
       "x_9 &  - 3 x_9 & 0 & 0 \\\\\n",
       "x_{1 0} & 0 & 0 & 0 \\\\\n",
       "\\end{array}\n",
       "\\right]\n",
       "\\end{equation}\n",
       " $$"
      ],
      "text/plain": [
       "10×4 Matrix{Num}:\n",
       "   0     0    0  -x₁\n",
       "   0     0  3x₂  -x₂\n",
       "   0  -3x₃  3x₃  -x₃\n",
       "  x₄  -3x₄  3x₄  -x₄\n",
       "  x₅  -3x₅  3x₅  -x₅\n",
       "  x₆  -3x₆  3x₆  -x₆\n",
       "  x₇  -3x₇  3x₇  -x₇\n",
       "  x₈  -3x₈  3x₈    0\n",
       "  x₉  -3x₉    0    0\n",
       " x₁₀     0    0    0"
      ]
     },
     "metadata": {},
     "output_type": "display_data"
    },
    {
     "data": {
      "text/plain": [
       "\u001b[32m\u001b[4mBandedMat{Num}, size=(10, 7), bandwidth=(3, 0)\u001b[24m\u001b[39m\n"
      ]
     },
     "metadata": {},
     "output_type": "display_data"
    }
   ],
   "source": [
    "# 转置出现了错误\n",
    "BandedMat(D', 3, 0; zipped=false)"
   ]
  },
  {
   "cell_type": "code",
   "execution_count": 51,
   "metadata": {},
   "outputs": [
    {
     "data": {
      "text/latex": [
       "$$ \\begin{equation}\n",
       "\\left[\n",
       "\\begin{array}{cccccccccc}\n",
       "x_1^{2} &  - 3 x_1 x_2 & 3 x_1 x_3 &  - x_1 x_4 & 0 & 0 & 0 & 0 & 0 & 0 \\\\\n",
       " - 3 x_1 x_2 & 10 x_2^{2} &  - 12 x_2 x_3 & 6 x_2 x_4 &  - x_2 x_5 & 0 & 0 & 0 & 0 & 0 \\\\\n",
       "3 x_1 x_3 &  - 12 x_2 x_3 & 19 x_3^{2} &  - 15 x_3 x_4 & 6 x_3 x_5 &  - x_3 x_6 & 0 & 0 & 0 & 0 \\\\\n",
       " - x_1 x_4 & 6 x_2 x_4 &  - 15 x_3 x_4 & 20 x_4^{2} &  - 15 x_4 x_5 & 6 x_4 x_6 &  - x_4 x_7 & 0 & 0 & 0 \\\\\n",
       "0 &  - x_2 x_5 & 6 x_3 x_5 &  - 15 x_4 x_5 & 20 x_5^{2} &  - 15 x_5 x_6 & 6 x_5 x_7 &  - x_5 x_8 & 0 & 0 \\\\\n",
       "0 & 0 &  - x_3 x_6 & 6 x_4 x_6 &  - 15 x_5 x_6 & 20 x_6^{2} &  - 15 x_6 x_7 & 6 x_6 x_8 &  - x_6 x_9 & 0 \\\\\n",
       "0 & 0 & 0 &  - x_4 x_7 & 6 x_5 x_7 &  - 15 x_6 x_7 & 20 x_7^{2} &  - 15 x_7 x_8 & 6 x_7 x_9 &  - x_{1 0} x_7 \\\\\n",
       "0 & 0 & 0 & 0 &  - x_5 x_8 & 6 x_6 x_8 &  - 15 x_7 x_8 & 19 x_8^{2} &  - 12 x_8 x_9 & 3 x_{1 0} x_8 \\\\\n",
       "0 & 0 & 0 & 0 & 0 &  - x_6 x_9 & 6 x_7 x_9 &  - 12 x_8 x_9 & 10 x_9^{2} &  - 3 x_{1 0} x_9 \\\\\n",
       "0 & 0 & 0 & 0 & 0 & 0 &  - x_{1 0} x_7 & 3 x_{1 0} x_8 &  - 3 x_{1 0} x_9 & x_{1 0}^{2} \\\\\n",
       "\\end{array}\n",
       "\\right]\n",
       "\\end{equation}\n",
       " $$"
      ],
      "text/plain": [
       "10×10 Matrix{Num}:\n",
       "    x₁^2   -3x₁*x₂    3x₁*x₃    -x₁*x₄  …         0         0         0\n",
       " -3x₁*x₂  10(x₂^2)  -12x₂*x₃    6x₂*x₄            0         0         0\n",
       "  3x₁*x₃  -12x₂*x₃  19(x₃^2)  -15x₃*x₄            0         0         0\n",
       "  -x₁*x₄    6x₂*x₄  -15x₃*x₄  20(x₄^2)            0         0         0\n",
       "       0    -x₂*x₅    6x₃*x₅  -15x₄*x₅       -x₅*x₈         0         0\n",
       "       0         0    -x₃*x₆    6x₄*x₆  …    6x₆*x₈    -x₆*x₉         0\n",
       "       0         0         0    -x₄*x₇     -15x₇*x₈    6x₇*x₉   -x₁₀*x₇\n",
       "       0         0         0         0     19(x₈^2)  -12x₈*x₉   3x₁₀*x₈\n",
       "       0         0         0         0     -12x₈*x₉  10(x₉^2)  -3x₁₀*x₉\n",
       "       0         0         0         0      3x₁₀*x₈  -3x₁₀*x₉     x₁₀^2"
      ]
     },
     "metadata": {},
     "output_type": "display_data"
    }
   ],
   "source": [
    "## 设计一个带状矩阵的乘法\n",
    "# D' * D\n",
    "\n"
   ]
  },
  {
   "cell_type": "code",
   "execution_count": 37,
   "metadata": {},
   "outputs": [
    {
     "data": {
      "text/plain": [
       "8×10 SparseMatrixCSC{Int64, Int64} with 24 stored entries:\n",
       " 1  -2   1   ⋅   ⋅   ⋅   ⋅   ⋅   ⋅  ⋅\n",
       " ⋅   1  -2   1   ⋅   ⋅   ⋅   ⋅   ⋅  ⋅\n",
       " ⋅   ⋅   1  -2   1   ⋅   ⋅   ⋅   ⋅  ⋅\n",
       " ⋅   ⋅   ⋅   1  -2   1   ⋅   ⋅   ⋅  ⋅\n",
       " ⋅   ⋅   ⋅   ⋅   1  -2   1   ⋅   ⋅  ⋅\n",
       " ⋅   ⋅   ⋅   ⋅   ⋅   1  -2   1   ⋅  ⋅\n",
       " ⋅   ⋅   ⋅   ⋅   ⋅   ⋅   1  -2   1  ⋅\n",
       " ⋅   ⋅   ⋅   ⋅   ⋅   ⋅   ⋅   1  -2  1"
      ]
     },
     "metadata": {},
     "output_type": "display_data"
    }
   ],
   "source": [
    "lambda = 2.0\n",
    "d = 2\n",
    "n = 10\n",
    "y = rand(n)\n",
    "# x = 1:n\n",
    "w = ones(n)\n",
    "\n",
    "n = length(y)\n",
    "# D = ddmat(speye(n), d)\n",
    "D = diff(speye(n), 2)\n",
    "\n",
    "#  1   1\n",
    "#  1  -2   1\n",
    "# -1   3  -3   1\n",
    "#  1  -4   6  -4   1 \n",
    "# -1   5  -10   10   -5    1\n",
    "\n",
    "# W = SparseArrays.spdiagm(w)\n",
    "# A = W + lambda * D' * D\n",
    "# # z, cve = WHIT(y, w)\n"
   ]
  },
  {
   "cell_type": "code",
   "execution_count": 42,
   "metadata": {},
   "outputs": [
    {
     "data": {
      "text/latex": [
       "$$ \\begin{equation}\n",
       "\\left[\n",
       "\\begin{array}{cccccccccc}\n",
       "x_1 & 0 & 0 & 0 & 0 & 0 & 0 & 0 & 0 & 0 \\\\\n",
       "0 & x_2 & 0 & 0 & 0 & 0 & 0 & 0 & 0 & 0 \\\\\n",
       "0 & 0 & x_3 & 0 & 0 & 0 & 0 & 0 & 0 & 0 \\\\\n",
       "0 & 0 & 0 & x_4 & 0 & 0 & 0 & 0 & 0 & 0 \\\\\n",
       "0 & 0 & 0 & 0 & x_5 & 0 & 0 & 0 & 0 & 0 \\\\\n",
       "0 & 0 & 0 & 0 & 0 & x_6 & 0 & 0 & 0 & 0 \\\\\n",
       "0 & 0 & 0 & 0 & 0 & 0 & x_7 & 0 & 0 & 0 \\\\\n",
       "0 & 0 & 0 & 0 & 0 & 0 & 0 & x_8 & 0 & 0 \\\\\n",
       "0 & 0 & 0 & 0 & 0 & 0 & 0 & 0 & x_9 & 0 \\\\\n",
       "0 & 0 & 0 & 0 & 0 & 0 & 0 & 0 & 0 & x_{1 0} \\\\\n",
       "\\end{array}\n",
       "\\right]\n",
       "\\end{equation}\n",
       " $$"
      ],
      "text/plain": [
       "10×10 Matrix{Num}:\n",
       " x₁   0   0   0   0   0   0   0   0    0\n",
       "  0  x₂   0   0   0   0   0   0   0    0\n",
       "  0   0  x₃   0   0   0   0   0   0    0\n",
       "  0   0   0  x₄   0   0   0   0   0    0\n",
       "  0   0   0   0  x₅   0   0   0   0    0\n",
       "  0   0   0   0   0  x₆   0   0   0    0\n",
       "  0   0   0   0   0   0  x₇   0   0    0\n",
       "  0   0   0   0   0   0   0  x₈   0    0\n",
       "  0   0   0   0   0   0   0   0  x₉    0\n",
       "  0   0   0   0   0   0   0   0   0  x₁₀"
      ]
     },
     "metadata": {},
     "output_type": "display_data"
    }
   ],
   "source": []
  },
  {
   "cell_type": "code",
   "execution_count": 5,
   "metadata": {},
   "outputs": [
    {
     "data": {
      "text/plain": [
       "\u001b[32m\u001b[1mTest Passed\u001b[22m\u001b[39m"
      ]
     },
     "metadata": {},
     "output_type": "display_data"
    }
   ],
   "source": [
    "z2, cve2 = WHIT(y, w, x)\n",
    "@test z2 ≈ z\n",
    "@test cve2 ≈ cve\n"
   ]
  }
 ],
 "metadata": {
  "kernelspec": {
   "display_name": "Julia 1.10.4",
   "language": "julia",
   "name": "julia-1.10"
  },
  "language_info": {
   "file_extension": ".jl",
   "mimetype": "application/julia",
   "name": "julia",
   "version": "1.10.4"
  }
 },
 "nbformat": 4,
 "nbformat_minor": 4
}
