{
 "cells": [
  {
   "cell_type": "code",
   "execution_count": 1,
   "id": "8717e83f-8793-45a4-8cc0-228e60917acd",
   "metadata": {},
   "outputs": [
    {
     "data": {
      "text/plain": [
       "ddmat (generic function with 2 methods)"
      ]
     },
     "metadata": {},
     "output_type": "display_data"
    }
   ],
   "source": [
    "# 使用LDL'分解，求解Whittaker smoother (d=3)\n",
    "# 根据该代码，归纳总结出whit3的向量公式\n",
    "# 采用a1, a2，混合代入，或许能得到更简洁的公式\n",
    "# Dongdong Kong, CUG, 2024-05-06\n",
    "include(\"main_whit.jl\")"
   ]
  },
  {
   "cell_type": "code",
   "execution_count": 2,
   "id": "0b3d0446-5bf2-494d-9a96-efa5b7ee07ad",
   "metadata": {},
   "outputs": [
    {
     "data": {
      "text/latex": [
       "$$ \\begin{equation}\n",
       "\\left[\n",
       "\\begin{array}{ccccccc}\n",
       "w_1 + \\lambda &  - 3 \\lambda & 3 \\lambda &  - \\lambda & 0 & 0 & 0 \\\\\n",
       " - 3 \\lambda & w_2 + 10 \\lambda &  - 12 \\lambda & 6 \\lambda &  - \\lambda & 0 & 0 \\\\\n",
       "3 \\lambda &  - 12 \\lambda & w_3 + 19 \\lambda &  - 15 \\lambda & 6 \\lambda &  - \\lambda & 0 \\\\\n",
       " - \\lambda & 6 \\lambda &  - 15 \\lambda & w_4 + 20 \\lambda &  - 15 \\lambda & 6 \\lambda &  - \\lambda \\\\\n",
       "0 &  - \\lambda & 6 \\lambda &  - 15 \\lambda & w_5 + 19 \\lambda &  - 12 \\lambda & 3 \\lambda \\\\\n",
       "0 & 0 &  - \\lambda & 6 \\lambda &  - 12 \\lambda & w_6 + 10 \\lambda &  - 3 \\lambda \\\\\n",
       "0 & 0 & 0 &  - \\lambda & 3 \\lambda &  - 3 \\lambda & w_7 + \\lambda \\\\\n",
       "\\end{array}\n",
       "\\right]\n",
       "\\end{equation}\n",
       " $$"
      ],
      "text/plain": [
       "7×7 Matrix{Num}:\n",
       " w₁ + λ          -3.0λ        3.0λ  …        0.0         0.0        0.0\n",
       "     -3.0λ  w₂ + 10.0λ      -12.0λ          -λ           0.0        0.0\n",
       "      3.0λ      -12.0λ  w₃ + 19.0λ           6.0λ       -λ          0.0\n",
       "     -λ           6.0λ      -15.0λ         -15.0λ        6.0λ      -λ\n",
       "      0.0        -λ           6.0λ     w₅ + 19.0λ      -12.0λ       3.0λ\n",
       "      0.0         0.0        -λ     …      -12.0λ  w₆ + 10.0λ      -3.0λ\n",
       "      0.0         0.0         0.0            3.0λ       -3.0λ  w₇ + λ"
      ]
     },
     "metadata": {},
     "output_type": "display_data"
    },
    {
     "data": {
      "text/latex": [
       "$$ \\begin{equation}\n",
       "\\left[\n",
       "\\begin{array}{ccccccc}\n",
       "1 & 0 & 0 & 0 & 0 & 0 & 0 \\\\\n",
       "\\frac{ - 3 \\lambda}{w_1 + \\lambda} & 1 & 0 & 0 & 0 & 0 & 0 \\\\\n",
       "\\frac{3 \\lambda}{w_1 + \\lambda} & \\frac{\\frac{9 \\lambda^{2}}{w_1 + \\lambda} - 12 \\lambda}{w_2 + \\frac{ - 9 \\lambda^{2}}{w_1 + \\lambda} + 10 \\lambda} & 1 & 0 & 0 & 0 & 0 \\\\\n",
       "\\frac{ - \\lambda}{w_1 + \\lambda} & \\frac{\\frac{ - 3 \\lambda^{2}}{w_1 + \\lambda} + 6 \\lambda}{w_2 + \\frac{ - 9 \\lambda^{2}}{w_1 + \\lambda} + 10 \\lambda} & \\frac{\\frac{3 \\lambda^{2}}{w_1 + \\lambda} + \\frac{ - \\left( \\frac{9 \\lambda^{2}}{w_1 + \\lambda} - 12 \\lambda \\right) \\left( \\frac{ - 3 \\lambda^{2}}{w_1 + \\lambda} + 6 \\lambda \\right)}{w_2 + \\frac{ - 9 \\lambda^{2}}{w_1 + \\lambda} + 10 \\lambda} - 15 \\lambda}{w_3 + \\frac{ - 9 \\lambda^{2}}{w_1 + \\lambda} + \\frac{ - \\left( \\frac{9 \\lambda^{2}}{w_1 + \\lambda} - 12 \\lambda \\right)^{2}}{w_2 + \\frac{ - 9 \\lambda^{2}}{w_1 + \\lambda} + 10 \\lambda} + 19 \\lambda} & 1 & 0 & 0 & 0 \\\\\n",
       "0 & \\frac{ - \\lambda}{w_2 + \\frac{ - 9 \\lambda^{2}}{w_1 + \\lambda} + 10 \\lambda} & \\frac{\\frac{\\left( \\frac{9 \\lambda^{2}}{w_1 + \\lambda} - 12 \\lambda \\right) \\lambda}{w_2 + \\frac{ - 9 \\lambda^{2}}{w_1 + \\lambda} + 10 \\lambda} + 6 \\lambda}{w_3 + \\frac{ - 9 \\lambda^{2}}{w_1 + \\lambda} + \\frac{ - \\left( \\frac{9 \\lambda^{2}}{w_1 + \\lambda} - 12 \\lambda \\right)^{2}}{w_2 + \\frac{ - 9 \\lambda^{2}}{w_1 + \\lambda} + 10 \\lambda} + 19 \\lambda} & \\frac{\\frac{ - \\left( \\frac{\\left( \\frac{9 \\lambda^{2}}{w_1 + \\lambda} - 12 \\lambda \\right) \\lambda}{w_2 + \\frac{ - 9 \\lambda^{2}}{w_1 + \\lambda} + 10 \\lambda} + 6 \\lambda \\right) \\left( \\frac{3 \\lambda^{2}}{w_1 + \\lambda} + \\frac{ - \\left( \\frac{9 \\lambda^{2}}{w_1 + \\lambda} - 12 \\lambda \\right) \\left( \\frac{ - 3 \\lambda^{2}}{w_1 + \\lambda} + 6 \\lambda \\right)}{w_2 + \\frac{ - 9 \\lambda^{2}}{w_1 + \\lambda} + 10 \\lambda} - 15 \\lambda \\right)}{w_3 + \\frac{ - 9 \\lambda^{2}}{w_1 + \\lambda} + \\frac{ - \\left( \\frac{9 \\lambda^{2}}{w_1 + \\lambda} - 12 \\lambda \\right)^{2}}{w_2 + \\frac{ - 9 \\lambda^{2}}{w_1 + \\lambda} + 10 \\lambda} + 19 \\lambda} + \\frac{\\left( \\frac{ - 3 \\lambda^{2}}{w_1 + \\lambda} + 6 \\lambda \\right) \\lambda}{w_2 + \\frac{ - 9 \\lambda^{2}}{w_1 + \\lambda} + 10 \\lambda} - 15 \\lambda}{w_4 + \\frac{ - \\left( \\frac{ - 3 \\lambda^{2}}{w_1 + \\lambda} + 6 \\lambda \\right)^{2}}{w_2 + \\frac{ - 9 \\lambda^{2}}{w_1 + \\lambda} + 10 \\lambda} + \\frac{ - \\left( \\frac{3 \\lambda^{2}}{w_1 + \\lambda} + \\frac{ - \\left( \\frac{9 \\lambda^{2}}{w_1 + \\lambda} - 12 \\lambda \\right) \\left( \\frac{ - 3 \\lambda^{2}}{w_1 + \\lambda} + 6 \\lambda \\right)}{w_2 + \\frac{ - 9 \\lambda^{2}}{w_1 + \\lambda} + 10 \\lambda} - 15 \\lambda \\right)^{2}}{w_3 + \\frac{ - 9 \\lambda^{2}}{w_1 + \\lambda} + \\frac{ - \\left( \\frac{9 \\lambda^{2}}{w_1 + \\lambda} - 12 \\lambda \\right)^{2}}{w_2 + \\frac{ - 9 \\lambda^{2}}{w_1 + \\lambda} + 10 \\lambda} + 19 \\lambda} + \\frac{ - \\lambda^{2}}{w_1 + \\lambda} + 20 \\lambda} & 1 & 0 & 0 \\\\\n",
       "0 & 0 & \\frac{ - \\lambda}{w_3 + \\frac{ - 9 \\lambda^{2}}{w_1 + \\lambda} + \\frac{ - \\left( \\frac{9 \\lambda^{2}}{w_1 + \\lambda} - 12 \\lambda \\right)^{2}}{w_2 + \\frac{ - 9 \\lambda^{2}}{w_1 + \\lambda} + 10 \\lambda} + 19 \\lambda} & \\frac{\\frac{\\left( \\frac{3 \\lambda^{2}}{w_1 + \\lambda} + \\frac{ - \\left( \\frac{9 \\lambda^{2}}{w_1 + \\lambda} - 12 \\lambda \\right) \\left( \\frac{ - 3 \\lambda^{2}}{w_1 + \\lambda} + 6 \\lambda \\right)}{w_2 + \\frac{ - 9 \\lambda^{2}}{w_1 + \\lambda} + 10 \\lambda} - 15 \\lambda \\right) \\lambda}{w_3 + \\frac{ - 9 \\lambda^{2}}{w_1 + \\lambda} + \\frac{ - \\left( \\frac{9 \\lambda^{2}}{w_1 + \\lambda} - 12 \\lambda \\right)^{2}}{w_2 + \\frac{ - 9 \\lambda^{2}}{w_1 + \\lambda} + 10 \\lambda} + 19 \\lambda} + 6 \\lambda}{w_4 + \\frac{ - \\left( \\frac{ - 3 \\lambda^{2}}{w_1 + \\lambda} + 6 \\lambda \\right)^{2}}{w_2 + \\frac{ - 9 \\lambda^{2}}{w_1 + \\lambda} + 10 \\lambda} + \\frac{ - \\left( \\frac{3 \\lambda^{2}}{w_1 + \\lambda} + \\frac{ - \\left( \\frac{9 \\lambda^{2}}{w_1 + \\lambda} - 12 \\lambda \\right) \\left( \\frac{ - 3 \\lambda^{2}}{w_1 + \\lambda} + 6 \\lambda \\right)}{w_2 + \\frac{ - 9 \\lambda^{2}}{w_1 + \\lambda} + 10 \\lambda} - 15 \\lambda \\right)^{2}}{w_3 + \\frac{ - 9 \\lambda^{2}}{w_1 + \\lambda} + \\frac{ - \\left( \\frac{9 \\lambda^{2}}{w_1 + \\lambda} - 12 \\lambda \\right)^{2}}{w_2 + \\frac{ - 9 \\lambda^{2}}{w_1 + \\lambda} + 10 \\lambda} + 19 \\lambda} + \\frac{ - \\lambda^{2}}{w_1 + \\lambda} + 20 \\lambda} & \\frac{\\frac{\\left( \\frac{\\left( \\frac{9 \\lambda^{2}}{w_1 + \\lambda} - 12 \\lambda \\right) \\lambda}{w_2 + \\frac{ - 9 \\lambda^{2}}{w_1 + \\lambda} + 10 \\lambda} + 6 \\lambda \\right) \\lambda}{w_3 + \\frac{ - 9 \\lambda^{2}}{w_1 + \\lambda} + \\frac{ - \\left( \\frac{9 \\lambda^{2}}{w_1 + \\lambda} - 12 \\lambda \\right)^{2}}{w_2 + \\frac{ - 9 \\lambda^{2}}{w_1 + \\lambda} + 10 \\lambda} + 19 \\lambda} + \\frac{ - \\left( \\frac{ - \\left( \\frac{\\left( \\frac{9 \\lambda^{2}}{w_1 + \\lambda} - 12 \\lambda \\right) \\lambda}{w_2 + \\frac{ - 9 \\lambda^{2}}{w_1 + \\lambda} + 10 \\lambda} + 6 \\lambda \\right) \\left( \\frac{3 \\lambda^{2}}{w_1 + \\lambda} + \\frac{ - \\left( \\frac{9 \\lambda^{2}}{w_1 + \\lambda} - 12 \\lambda \\right) \\left( \\frac{ - 3 \\lambda^{2}}{w_1 + \\lambda} + 6 \\lambda \\right)}{w_2 + \\frac{ - 9 \\lambda^{2}}{w_1 + \\lambda} + 10 \\lambda} - 15 \\lambda \\right)}{w_3 + \\frac{ - 9 \\lambda^{2}}{w_1 + \\lambda} + \\frac{ - \\left( \\frac{9 \\lambda^{2}}{w_1 + \\lambda} - 12 \\lambda \\right)^{2}}{w_2 + \\frac{ - 9 \\lambda^{2}}{w_1 + \\lambda} + 10 \\lambda} + 19 \\lambda} + \\frac{\\left( \\frac{ - 3 \\lambda^{2}}{w_1 + \\lambda} + 6 \\lambda \\right) \\lambda}{w_2 + \\frac{ - 9 \\lambda^{2}}{w_1 + \\lambda} + 10 \\lambda} - 15 \\lambda \\right) \\left( \\frac{\\left( \\frac{3 \\lambda^{2}}{w_1 + \\lambda} + \\frac{ - \\left( \\frac{9 \\lambda^{2}}{w_1 + \\lambda} - 12 \\lambda \\right) \\left( \\frac{ - 3 \\lambda^{2}}{w_1 + \\lambda} + 6 \\lambda \\right)}{w_2 + \\frac{ - 9 \\lambda^{2}}{w_1 + \\lambda} + 10 \\lambda} - 15 \\lambda \\right) \\lambda}{w_3 + \\frac{ - 9 \\lambda^{2}}{w_1 + \\lambda} + \\frac{ - \\left( \\frac{9 \\lambda^{2}}{w_1 + \\lambda} - 12 \\lambda \\right)^{2}}{w_2 + \\frac{ - 9 \\lambda^{2}}{w_1 + \\lambda} + 10 \\lambda} + 19 \\lambda} + 6 \\lambda \\right)}{w_4 + \\frac{ - \\left( \\frac{ - 3 \\lambda^{2}}{w_1 + \\lambda} + 6 \\lambda \\right)^{2}}{w_2 + \\frac{ - 9 \\lambda^{2}}{w_1 + \\lambda} + 10 \\lambda} + \\frac{ - \\left( \\frac{3 \\lambda^{2}}{w_1 + \\lambda} + \\frac{ - \\left( \\frac{9 \\lambda^{2}}{w_1 + \\lambda} - 12 \\lambda \\right) \\left( \\frac{ - 3 \\lambda^{2}}{w_1 + \\lambda} + 6 \\lambda \\right)}{w_2 + \\frac{ - 9 \\lambda^{2}}{w_1 + \\lambda} + 10 \\lambda} - 15 \\lambda \\right)^{2}}{w_3 + \\frac{ - 9 \\lambda^{2}}{w_1 + \\lambda} + \\frac{ - \\left( \\frac{9 \\lambda^{2}}{w_1 + \\lambda} - 12 \\lambda \\right)^{2}}{w_2 + \\frac{ - 9 \\lambda^{2}}{w_1 + \\lambda} + 10 \\lambda} + 19 \\lambda} + \\frac{ - \\lambda^{2}}{w_1 + \\lambda} + 20 \\lambda} - 12 \\lambda}{w_5 + \\frac{ - \\left( \\frac{\\left( \\frac{9 \\lambda^{2}}{w_1 + \\lambda} - 12 \\lambda \\right) \\lambda}{w_2 + \\frac{ - 9 \\lambda^{2}}{w_1 + \\lambda} + 10 \\lambda} + 6 \\lambda \\right)^{2}}{w_3 + \\frac{ - 9 \\lambda^{2}}{w_1 + \\lambda} + \\frac{ - \\left( \\frac{9 \\lambda^{2}}{w_1 + \\lambda} - 12 \\lambda \\right)^{2}}{w_2 + \\frac{ - 9 \\lambda^{2}}{w_1 + \\lambda} + 10 \\lambda} + 19 \\lambda} + \\frac{ - \\left( \\frac{ - \\left( \\frac{\\left( \\frac{9 \\lambda^{2}}{w_1 + \\lambda} - 12 \\lambda \\right) \\lambda}{w_2 + \\frac{ - 9 \\lambda^{2}}{w_1 + \\lambda} + 10 \\lambda} + 6 \\lambda \\right) \\left( \\frac{3 \\lambda^{2}}{w_1 + \\lambda} + \\frac{ - \\left( \\frac{9 \\lambda^{2}}{w_1 + \\lambda} - 12 \\lambda \\right) \\left( \\frac{ - 3 \\lambda^{2}}{w_1 + \\lambda} + 6 \\lambda \\right)}{w_2 + \\frac{ - 9 \\lambda^{2}}{w_1 + \\lambda} + 10 \\lambda} - 15 \\lambda \\right)}{w_3 + \\frac{ - 9 \\lambda^{2}}{w_1 + \\lambda} + \\frac{ - \\left( \\frac{9 \\lambda^{2}}{w_1 + \\lambda} - 12 \\lambda \\right)^{2}}{w_2 + \\frac{ - 9 \\lambda^{2}}{w_1 + \\lambda} + 10 \\lambda} + 19 \\lambda} + \\frac{\\left( \\frac{ - 3 \\lambda^{2}}{w_1 + \\lambda} + 6 \\lambda \\right) \\lambda}{w_2 + \\frac{ - 9 \\lambda^{2}}{w_1 + \\lambda} + 10 \\lambda} - 15 \\lambda \\right)^{2}}{w_4 + \\frac{ - \\left( \\frac{ - 3 \\lambda^{2}}{w_1 + \\lambda} + 6 \\lambda \\right)^{2}}{w_2 + \\frac{ - 9 \\lambda^{2}}{w_1 + \\lambda} + 10 \\lambda} + \\frac{ - \\left( \\frac{3 \\lambda^{2}}{w_1 + \\lambda} + \\frac{ - \\left( \\frac{9 \\lambda^{2}}{w_1 + \\lambda} - 12 \\lambda \\right) \\left( \\frac{ - 3 \\lambda^{2}}{w_1 + \\lambda} + 6 \\lambda \\right)}{w_2 + \\frac{ - 9 \\lambda^{2}}{w_1 + \\lambda} + 10 \\lambda} - 15 \\lambda \\right)^{2}}{w_3 + \\frac{ - 9 \\lambda^{2}}{w_1 + \\lambda} + \\frac{ - \\left( \\frac{9 \\lambda^{2}}{w_1 + \\lambda} - 12 \\lambda \\right)^{2}}{w_2 + \\frac{ - 9 \\lambda^{2}}{w_1 + \\lambda} + 10 \\lambda} + 19 \\lambda} + \\frac{ - \\lambda^{2}}{w_1 + \\lambda} + 20 \\lambda} + \\frac{ - \\lambda^{2}}{w_2 + \\frac{ - 9 \\lambda^{2}}{w_1 + \\lambda} + 10 \\lambda} + 19 \\lambda} & 1 & 0 \\\\\n",
       "0 & 0 & 0 & \\frac{ - \\lambda}{w_4 + \\frac{ - \\left( \\frac{ - 3 \\lambda^{2}}{w_1 + \\lambda} + 6 \\lambda \\right)^{2}}{w_2 + \\frac{ - 9 \\lambda^{2}}{w_1 + \\lambda} + 10 \\lambda} + \\frac{ - \\left( \\frac{3 \\lambda^{2}}{w_1 + \\lambda} + \\frac{ - \\left( \\frac{9 \\lambda^{2}}{w_1 + \\lambda} - 12 \\lambda \\right) \\left( \\frac{ - 3 \\lambda^{2}}{w_1 + \\lambda} + 6 \\lambda \\right)}{w_2 + \\frac{ - 9 \\lambda^{2}}{w_1 + \\lambda} + 10 \\lambda} - 15 \\lambda \\right)^{2}}{w_3 + \\frac{ - 9 \\lambda^{2}}{w_1 + \\lambda} + \\frac{ - \\left( \\frac{9 \\lambda^{2}}{w_1 + \\lambda} - 12 \\lambda \\right)^{2}}{w_2 + \\frac{ - 9 \\lambda^{2}}{w_1 + \\lambda} + 10 \\lambda} + 19 \\lambda} + \\frac{ - \\lambda^{2}}{w_1 + \\lambda} + 20 \\lambda} & \\frac{\\frac{\\left( \\frac{ - \\left( \\frac{\\left( \\frac{9 \\lambda^{2}}{w_1 + \\lambda} - 12 \\lambda \\right) \\lambda}{w_2 + \\frac{ - 9 \\lambda^{2}}{w_1 + \\lambda} + 10 \\lambda} + 6 \\lambda \\right) \\left( \\frac{3 \\lambda^{2}}{w_1 + \\lambda} + \\frac{ - \\left( \\frac{9 \\lambda^{2}}{w_1 + \\lambda} - 12 \\lambda \\right) \\left( \\frac{ - 3 \\lambda^{2}}{w_1 + \\lambda} + 6 \\lambda \\right)}{w_2 + \\frac{ - 9 \\lambda^{2}}{w_1 + \\lambda} + 10 \\lambda} - 15 \\lambda \\right)}{w_3 + \\frac{ - 9 \\lambda^{2}}{w_1 + \\lambda} + \\frac{ - \\left( \\frac{9 \\lambda^{2}}{w_1 + \\lambda} - 12 \\lambda \\right)^{2}}{w_2 + \\frac{ - 9 \\lambda^{2}}{w_1 + \\lambda} + 10 \\lambda} + 19 \\lambda} + \\frac{\\left( \\frac{ - 3 \\lambda^{2}}{w_1 + \\lambda} + 6 \\lambda \\right) \\lambda}{w_2 + \\frac{ - 9 \\lambda^{2}}{w_1 + \\lambda} + 10 \\lambda} - 15 \\lambda \\right) \\lambda}{w_4 + \\frac{ - \\left( \\frac{ - 3 \\lambda^{2}}{w_1 + \\lambda} + 6 \\lambda \\right)^{2}}{w_2 + \\frac{ - 9 \\lambda^{2}}{w_1 + \\lambda} + 10 \\lambda} + \\frac{ - \\left( \\frac{3 \\lambda^{2}}{w_1 + \\lambda} + \\frac{ - \\left( \\frac{9 \\lambda^{2}}{w_1 + \\lambda} - 12 \\lambda \\right) \\left( \\frac{ - 3 \\lambda^{2}}{w_1 + \\lambda} + 6 \\lambda \\right)}{w_2 + \\frac{ - 9 \\lambda^{2}}{w_1 + \\lambda} + 10 \\lambda} - 15 \\lambda \\right)^{2}}{w_3 + \\frac{ - 9 \\lambda^{2}}{w_1 + \\lambda} + \\frac{ - \\left( \\frac{9 \\lambda^{2}}{w_1 + \\lambda} - 12 \\lambda \\right)^{2}}{w_2 + \\frac{ - 9 \\lambda^{2}}{w_1 + \\lambda} + 10 \\lambda} + 19 \\lambda} + \\frac{ - \\lambda^{2}}{w_1 + \\lambda} + 20 \\lambda} + 3 \\lambda}{w_5 + \\frac{ - \\left( \\frac{\\left( \\frac{9 \\lambda^{2}}{w_1 + \\lambda} - 12 \\lambda \\right) \\lambda}{w_2 + \\frac{ - 9 \\lambda^{2}}{w_1 + \\lambda} + 10 \\lambda} + 6 \\lambda \\right)^{2}}{w_3 + \\frac{ - 9 \\lambda^{2}}{w_1 + \\lambda} + \\frac{ - \\left( \\frac{9 \\lambda^{2}}{w_1 + \\lambda} - 12 \\lambda \\right)^{2}}{w_2 + \\frac{ - 9 \\lambda^{2}}{w_1 + \\lambda} + 10 \\lambda} + 19 \\lambda} + \\frac{ - \\left( \\frac{ - \\left( \\frac{\\left( \\frac{9 \\lambda^{2}}{w_1 + \\lambda} - 12 \\lambda \\right) \\lambda}{w_2 + \\frac{ - 9 \\lambda^{2}}{w_1 + \\lambda} + 10 \\lambda} + 6 \\lambda \\right) \\left( \\frac{3 \\lambda^{2}}{w_1 + \\lambda} + \\frac{ - \\left( \\frac{9 \\lambda^{2}}{w_1 + \\lambda} - 12 \\lambda \\right) \\left( \\frac{ - 3 \\lambda^{2}}{w_1 + \\lambda} + 6 \\lambda \\right)}{w_2 + \\frac{ - 9 \\lambda^{2}}{w_1 + \\lambda} + 10 \\lambda} - 15 \\lambda \\right)}{w_3 + \\frac{ - 9 \\lambda^{2}}{w_1 + \\lambda} + \\frac{ - \\left( \\frac{9 \\lambda^{2}}{w_1 + \\lambda} - 12 \\lambda \\right)^{2}}{w_2 + \\frac{ - 9 \\lambda^{2}}{w_1 + \\lambda} + 10 \\lambda} + 19 \\lambda} + \\frac{\\left( \\frac{ - 3 \\lambda^{2}}{w_1 + \\lambda} + 6 \\lambda \\right) \\lambda}{w_2 + \\frac{ - 9 \\lambda^{2}}{w_1 + \\lambda} + 10 \\lambda} - 15 \\lambda \\right)^{2}}{w_4 + \\frac{ - \\left( \\frac{ - 3 \\lambda^{2}}{w_1 + \\lambda} + 6 \\lambda \\right)^{2}}{w_2 + \\frac{ - 9 \\lambda^{2}}{w_1 + \\lambda} + 10 \\lambda} + \\frac{ - \\left( \\frac{3 \\lambda^{2}}{w_1 + \\lambda} + \\frac{ - \\left( \\frac{9 \\lambda^{2}}{w_1 + \\lambda} - 12 \\lambda \\right) \\left( \\frac{ - 3 \\lambda^{2}}{w_1 + \\lambda} + 6 \\lambda \\right)}{w_2 + \\frac{ - 9 \\lambda^{2}}{w_1 + \\lambda} + 10 \\lambda} - 15 \\lambda \\right)^{2}}{w_3 + \\frac{ - 9 \\lambda^{2}}{w_1 + \\lambda} + \\frac{ - \\left( \\frac{9 \\lambda^{2}}{w_1 + \\lambda} - 12 \\lambda \\right)^{2}}{w_2 + \\frac{ - 9 \\lambda^{2}}{w_1 + \\lambda} + 10 \\lambda} + 19 \\lambda} + \\frac{ - \\lambda^{2}}{w_1 + \\lambda} + 20 \\lambda} + \\frac{ - \\lambda^{2}}{w_2 + \\frac{ - 9 \\lambda^{2}}{w_1 + \\lambda} + 10 \\lambda} + 19 \\lambda} & \\frac{\\frac{ - \\left( \\frac{\\left( \\frac{\\left( \\frac{9 \\lambda^{2}}{w_1 + \\lambda} - 12 \\lambda \\right) \\lambda}{w_2 + \\frac{ - 9 \\lambda^{2}}{w_1 + \\lambda} + 10 \\lambda} + 6 \\lambda \\right) \\lambda}{w_3 + \\frac{ - 9 \\lambda^{2}}{w_1 + \\lambda} + \\frac{ - \\left( \\frac{9 \\lambda^{2}}{w_1 + \\lambda} - 12 \\lambda \\right)^{2}}{w_2 + \\frac{ - 9 \\lambda^{2}}{w_1 + \\lambda} + 10 \\lambda} + 19 \\lambda} + \\frac{ - \\left( \\frac{ - \\left( \\frac{\\left( \\frac{9 \\lambda^{2}}{w_1 + \\lambda} - 12 \\lambda \\right) \\lambda}{w_2 + \\frac{ - 9 \\lambda^{2}}{w_1 + \\lambda} + 10 \\lambda} + 6 \\lambda \\right) \\left( \\frac{3 \\lambda^{2}}{w_1 + \\lambda} + \\frac{ - \\left( \\frac{9 \\lambda^{2}}{w_1 + \\lambda} - 12 \\lambda \\right) \\left( \\frac{ - 3 \\lambda^{2}}{w_1 + \\lambda} + 6 \\lambda \\right)}{w_2 + \\frac{ - 9 \\lambda^{2}}{w_1 + \\lambda} + 10 \\lambda} - 15 \\lambda \\right)}{w_3 + \\frac{ - 9 \\lambda^{2}}{w_1 + \\lambda} + \\frac{ - \\left( \\frac{9 \\lambda^{2}}{w_1 + \\lambda} - 12 \\lambda \\right)^{2}}{w_2 + \\frac{ - 9 \\lambda^{2}}{w_1 + \\lambda} + 10 \\lambda} + 19 \\lambda} + \\frac{\\left( \\frac{ - 3 \\lambda^{2}}{w_1 + \\lambda} + 6 \\lambda \\right) \\lambda}{w_2 + \\frac{ - 9 \\lambda^{2}}{w_1 + \\lambda} + 10 \\lambda} - 15 \\lambda \\right) \\left( \\frac{\\left( \\frac{3 \\lambda^{2}}{w_1 + \\lambda} + \\frac{ - \\left( \\frac{9 \\lambda^{2}}{w_1 + \\lambda} - 12 \\lambda \\right) \\left( \\frac{ - 3 \\lambda^{2}}{w_1 + \\lambda} + 6 \\lambda \\right)}{w_2 + \\frac{ - 9 \\lambda^{2}}{w_1 + \\lambda} + 10 \\lambda} - 15 \\lambda \\right) \\lambda}{w_3 + \\frac{ - 9 \\lambda^{2}}{w_1 + \\lambda} + \\frac{ - \\left( \\frac{9 \\lambda^{2}}{w_1 + \\lambda} - 12 \\lambda \\right)^{2}}{w_2 + \\frac{ - 9 \\lambda^{2}}{w_1 + \\lambda} + 10 \\lambda} + 19 \\lambda} + 6 \\lambda \\right)}{w_4 + \\frac{ - \\left( \\frac{ - 3 \\lambda^{2}}{w_1 + \\lambda} + 6 \\lambda \\right)^{2}}{w_2 + \\frac{ - 9 \\lambda^{2}}{w_1 + \\lambda} + 10 \\lambda} + \\frac{ - \\left( \\frac{3 \\lambda^{2}}{w_1 + \\lambda} + \\frac{ - \\left( \\frac{9 \\lambda^{2}}{w_1 + \\lambda} - 12 \\lambda \\right) \\left( \\frac{ - 3 \\lambda^{2}}{w_1 + \\lambda} + 6 \\lambda \\right)}{w_2 + \\frac{ - 9 \\lambda^{2}}{w_1 + \\lambda} + 10 \\lambda} - 15 \\lambda \\right)^{2}}{w_3 + \\frac{ - 9 \\lambda^{2}}{w_1 + \\lambda} + \\frac{ - \\left( \\frac{9 \\lambda^{2}}{w_1 + \\lambda} - 12 \\lambda \\right)^{2}}{w_2 + \\frac{ - 9 \\lambda^{2}}{w_1 + \\lambda} + 10 \\lambda} + 19 \\lambda} + \\frac{ - \\lambda^{2}}{w_1 + \\lambda} + 20 \\lambda} - 12 \\lambda \\right) \\left( \\frac{\\left( \\frac{ - \\left( \\frac{\\left( \\frac{9 \\lambda^{2}}{w_1 + \\lambda} - 12 \\lambda \\right) \\lambda}{w_2 + \\frac{ - 9 \\lambda^{2}}{w_1 + \\lambda} + 10 \\lambda} + 6 \\lambda \\right) \\left( \\frac{3 \\lambda^{2}}{w_1 + \\lambda} + \\frac{ - \\left( \\frac{9 \\lambda^{2}}{w_1 + \\lambda} - 12 \\lambda \\right) \\left( \\frac{ - 3 \\lambda^{2}}{w_1 + \\lambda} + 6 \\lambda \\right)}{w_2 + \\frac{ - 9 \\lambda^{2}}{w_1 + \\lambda} + 10 \\lambda} - 15 \\lambda \\right)}{w_3 + \\frac{ - 9 \\lambda^{2}}{w_1 + \\lambda} + \\frac{ - \\left( \\frac{9 \\lambda^{2}}{w_1 + \\lambda} - 12 \\lambda \\right)^{2}}{w_2 + \\frac{ - 9 \\lambda^{2}}{w_1 + \\lambda} + 10 \\lambda} + 19 \\lambda} + \\frac{\\left( \\frac{ - 3 \\lambda^{2}}{w_1 + \\lambda} + 6 \\lambda \\right) \\lambda}{w_2 + \\frac{ - 9 \\lambda^{2}}{w_1 + \\lambda} + 10 \\lambda} - 15 \\lambda \\right) \\lambda}{w_4 + \\frac{ - \\left( \\frac{ - 3 \\lambda^{2}}{w_1 + \\lambda} + 6 \\lambda \\right)^{2}}{w_2 + \\frac{ - 9 \\lambda^{2}}{w_1 + \\lambda} + 10 \\lambda} + \\frac{ - \\left( \\frac{3 \\lambda^{2}}{w_1 + \\lambda} + \\frac{ - \\left( \\frac{9 \\lambda^{2}}{w_1 + \\lambda} - 12 \\lambda \\right) \\left( \\frac{ - 3 \\lambda^{2}}{w_1 + \\lambda} + 6 \\lambda \\right)}{w_2 + \\frac{ - 9 \\lambda^{2}}{w_1 + \\lambda} + 10 \\lambda} - 15 \\lambda \\right)^{2}}{w_3 + \\frac{ - 9 \\lambda^{2}}{w_1 + \\lambda} + \\frac{ - \\left( \\frac{9 \\lambda^{2}}{w_1 + \\lambda} - 12 \\lambda \\right)^{2}}{w_2 + \\frac{ - 9 \\lambda^{2}}{w_1 + \\lambda} + 10 \\lambda} + 19 \\lambda} + \\frac{ - \\lambda^{2}}{w_1 + \\lambda} + 20 \\lambda} + 3 \\lambda \\right)}{w_5 + \\frac{ - \\left( \\frac{\\left( \\frac{9 \\lambda^{2}}{w_1 + \\lambda} - 12 \\lambda \\right) \\lambda}{w_2 + \\frac{ - 9 \\lambda^{2}}{w_1 + \\lambda} + 10 \\lambda} + 6 \\lambda \\right)^{2}}{w_3 + \\frac{ - 9 \\lambda^{2}}{w_1 + \\lambda} + \\frac{ - \\left( \\frac{9 \\lambda^{2}}{w_1 + \\lambda} - 12 \\lambda \\right)^{2}}{w_2 + \\frac{ - 9 \\lambda^{2}}{w_1 + \\lambda} + 10 \\lambda} + 19 \\lambda} + \\frac{ - \\left( \\frac{ - \\left( \\frac{\\left( \\frac{9 \\lambda^{2}}{w_1 + \\lambda} - 12 \\lambda \\right) \\lambda}{w_2 + \\frac{ - 9 \\lambda^{2}}{w_1 + \\lambda} + 10 \\lambda} + 6 \\lambda \\right) \\left( \\frac{3 \\lambda^{2}}{w_1 + \\lambda} + \\frac{ - \\left( \\frac{9 \\lambda^{2}}{w_1 + \\lambda} - 12 \\lambda \\right) \\left( \\frac{ - 3 \\lambda^{2}}{w_1 + \\lambda} + 6 \\lambda \\right)}{w_2 + \\frac{ - 9 \\lambda^{2}}{w_1 + \\lambda} + 10 \\lambda} - 15 \\lambda \\right)}{w_3 + \\frac{ - 9 \\lambda^{2}}{w_1 + \\lambda} + \\frac{ - \\left( \\frac{9 \\lambda^{2}}{w_1 + \\lambda} - 12 \\lambda \\right)^{2}}{w_2 + \\frac{ - 9 \\lambda^{2}}{w_1 + \\lambda} + 10 \\lambda} + 19 \\lambda} + \\frac{\\left( \\frac{ - 3 \\lambda^{2}}{w_1 + \\lambda} + 6 \\lambda \\right) \\lambda}{w_2 + \\frac{ - 9 \\lambda^{2}}{w_1 + \\lambda} + 10 \\lambda} - 15 \\lambda \\right)^{2}}{w_4 + \\frac{ - \\left( \\frac{ - 3 \\lambda^{2}}{w_1 + \\lambda} + 6 \\lambda \\right)^{2}}{w_2 + \\frac{ - 9 \\lambda^{2}}{w_1 + \\lambda} + 10 \\lambda} + \\frac{ - \\left( \\frac{3 \\lambda^{2}}{w_1 + \\lambda} + \\frac{ - \\left( \\frac{9 \\lambda^{2}}{w_1 + \\lambda} - 12 \\lambda \\right) \\left( \\frac{ - 3 \\lambda^{2}}{w_1 + \\lambda} + 6 \\lambda \\right)}{w_2 + \\frac{ - 9 \\lambda^{2}}{w_1 + \\lambda} + 10 \\lambda} - 15 \\lambda \\right)^{2}}{w_3 + \\frac{ - 9 \\lambda^{2}}{w_1 + \\lambda} + \\frac{ - \\left( \\frac{9 \\lambda^{2}}{w_1 + \\lambda} - 12 \\lambda \\right)^{2}}{w_2 + \\frac{ - 9 \\lambda^{2}}{w_1 + \\lambda} + 10 \\lambda} + 19 \\lambda} + \\frac{ - \\lambda^{2}}{w_1 + \\lambda} + 20 \\lambda} + \\frac{ - \\lambda^{2}}{w_2 + \\frac{ - 9 \\lambda^{2}}{w_1 + \\lambda} + 10 \\lambda} + 19 \\lambda} + \\frac{\\left( \\frac{\\left( \\frac{3 \\lambda^{2}}{w_1 + \\lambda} + \\frac{ - \\left( \\frac{9 \\lambda^{2}}{w_1 + \\lambda} - 12 \\lambda \\right) \\left( \\frac{ - 3 \\lambda^{2}}{w_1 + \\lambda} + 6 \\lambda \\right)}{w_2 + \\frac{ - 9 \\lambda^{2}}{w_1 + \\lambda} + 10 \\lambda} - 15 \\lambda \\right) \\lambda}{w_3 + \\frac{ - 9 \\lambda^{2}}{w_1 + \\lambda} + \\frac{ - \\left( \\frac{9 \\lambda^{2}}{w_1 + \\lambda} - 12 \\lambda \\right)^{2}}{w_2 + \\frac{ - 9 \\lambda^{2}}{w_1 + \\lambda} + 10 \\lambda} + 19 \\lambda} + 6 \\lambda \\right) \\lambda}{w_4 + \\frac{ - \\left( \\frac{ - 3 \\lambda^{2}}{w_1 + \\lambda} + 6 \\lambda \\right)^{2}}{w_2 + \\frac{ - 9 \\lambda^{2}}{w_1 + \\lambda} + 10 \\lambda} + \\frac{ - \\left( \\frac{3 \\lambda^{2}}{w_1 + \\lambda} + \\frac{ - \\left( \\frac{9 \\lambda^{2}}{w_1 + \\lambda} - 12 \\lambda \\right) \\left( \\frac{ - 3 \\lambda^{2}}{w_1 + \\lambda} + 6 \\lambda \\right)}{w_2 + \\frac{ - 9 \\lambda^{2}}{w_1 + \\lambda} + 10 \\lambda} - 15 \\lambda \\right)^{2}}{w_3 + \\frac{ - 9 \\lambda^{2}}{w_1 + \\lambda} + \\frac{ - \\left( \\frac{9 \\lambda^{2}}{w_1 + \\lambda} - 12 \\lambda \\right)^{2}}{w_2 + \\frac{ - 9 \\lambda^{2}}{w_1 + \\lambda} + 10 \\lambda} + 19 \\lambda} + \\frac{ - \\lambda^{2}}{w_1 + \\lambda} + 20 \\lambda} - 3 \\lambda}{w_6 + \\frac{ - \\left( \\frac{\\left( \\frac{3 \\lambda^{2}}{w_1 + \\lambda} + \\frac{ - \\left( \\frac{9 \\lambda^{2}}{w_1 + \\lambda} - 12 \\lambda \\right) \\left( \\frac{ - 3 \\lambda^{2}}{w_1 + \\lambda} + 6 \\lambda \\right)}{w_2 + \\frac{ - 9 \\lambda^{2}}{w_1 + \\lambda} + 10 \\lambda} - 15 \\lambda \\right) \\lambda}{w_3 + \\frac{ - 9 \\lambda^{2}}{w_1 + \\lambda} + \\frac{ - \\left( \\frac{9 \\lambda^{2}}{w_1 + \\lambda} - 12 \\lambda \\right)^{2}}{w_2 + \\frac{ - 9 \\lambda^{2}}{w_1 + \\lambda} + 10 \\lambda} + 19 \\lambda} + 6 \\lambda \\right)^{2}}{w_4 + \\frac{ - \\left( \\frac{ - 3 \\lambda^{2}}{w_1 + \\lambda} + 6 \\lambda \\right)^{2}}{w_2 + \\frac{ - 9 \\lambda^{2}}{w_1 + \\lambda} + 10 \\lambda} + \\frac{ - \\left( \\frac{3 \\lambda^{2}}{w_1 + \\lambda} + \\frac{ - \\left( \\frac{9 \\lambda^{2}}{w_1 + \\lambda} - 12 \\lambda \\right) \\left( \\frac{ - 3 \\lambda^{2}}{w_1 + \\lambda} + 6 \\lambda \\right)}{w_2 + \\frac{ - 9 \\lambda^{2}}{w_1 + \\lambda} + 10 \\lambda} - 15 \\lambda \\right)^{2}}{w_3 + \\frac{ - 9 \\lambda^{2}}{w_1 + \\lambda} + \\frac{ - \\left( \\frac{9 \\lambda^{2}}{w_1 + \\lambda} - 12 \\lambda \\right)^{2}}{w_2 + \\frac{ - 9 \\lambda^{2}}{w_1 + \\lambda} + 10 \\lambda} + 19 \\lambda} + \\frac{ - \\lambda^{2}}{w_1 + \\lambda} + 20 \\lambda} + \\frac{ - \\lambda^{2}}{w_3 + \\frac{ - 9 \\lambda^{2}}{w_1 + \\lambda} + \\frac{ - \\left( \\frac{9 \\lambda^{2}}{w_1 + \\lambda} - 12 \\lambda \\right)^{2}}{w_2 + \\frac{ - 9 \\lambda^{2}}{w_1 + \\lambda} + 10 \\lambda} + 19 \\lambda} + \\frac{ - \\left( \\frac{\\left( \\frac{\\left( \\frac{9 \\lambda^{2}}{w_1 + \\lambda} - 12 \\lambda \\right) \\lambda}{w_2 + \\frac{ - 9 \\lambda^{2}}{w_1 + \\lambda} + 10 \\lambda} + 6 \\lambda \\right) \\lambda}{w_3 + \\frac{ - 9 \\lambda^{2}}{w_1 + \\lambda} + \\frac{ - \\left( \\frac{9 \\lambda^{2}}{w_1 + \\lambda} - 12 \\lambda \\right)^{2}}{w_2 + \\frac{ - 9 \\lambda^{2}}{w_1 + \\lambda} + 10 \\lambda} + 19 \\lambda} + \\frac{ - \\left( \\frac{ - \\left( \\frac{\\left( \\frac{9 \\lambda^{2}}{w_1 + \\lambda} - 12 \\lambda \\right) \\lambda}{w_2 + \\frac{ - 9 \\lambda^{2}}{w_1 + \\lambda} + 10 \\lambda} + 6 \\lambda \\right) \\left( \\frac{3 \\lambda^{2}}{w_1 + \\lambda} + \\frac{ - \\left( \\frac{9 \\lambda^{2}}{w_1 + \\lambda} - 12 \\lambda \\right) \\left( \\frac{ - 3 \\lambda^{2}}{w_1 + \\lambda} + 6 \\lambda \\right)}{w_2 + \\frac{ - 9 \\lambda^{2}}{w_1 + \\lambda} + 10 \\lambda} - 15 \\lambda \\right)}{w_3 + \\frac{ - 9 \\lambda^{2}}{w_1 + \\lambda} + \\frac{ - \\left( \\frac{9 \\lambda^{2}}{w_1 + \\lambda} - 12 \\lambda \\right)^{2}}{w_2 + \\frac{ - 9 \\lambda^{2}}{w_1 + \\lambda} + 10 \\lambda} + 19 \\lambda} + \\frac{\\left( \\frac{ - 3 \\lambda^{2}}{w_1 + \\lambda} + 6 \\lambda \\right) \\lambda}{w_2 + \\frac{ - 9 \\lambda^{2}}{w_1 + \\lambda} + 10 \\lambda} - 15 \\lambda \\right) \\left( \\frac{\\left( \\frac{3 \\lambda^{2}}{w_1 + \\lambda} + \\frac{ - \\left( \\frac{9 \\lambda^{2}}{w_1 + \\lambda} - 12 \\lambda \\right) \\left( \\frac{ - 3 \\lambda^{2}}{w_1 + \\lambda} + 6 \\lambda \\right)}{w_2 + \\frac{ - 9 \\lambda^{2}}{w_1 + \\lambda} + 10 \\lambda} - 15 \\lambda \\right) \\lambda}{w_3 + \\frac{ - 9 \\lambda^{2}}{w_1 + \\lambda} + \\frac{ - \\left( \\frac{9 \\lambda^{2}}{w_1 + \\lambda} - 12 \\lambda \\right)^{2}}{w_2 + \\frac{ - 9 \\lambda^{2}}{w_1 + \\lambda} + 10 \\lambda} + 19 \\lambda} + 6 \\lambda \\right)}{w_4 + \\frac{ - \\left( \\frac{ - 3 \\lambda^{2}}{w_1 + \\lambda} + 6 \\lambda \\right)^{2}}{w_2 + \\frac{ - 9 \\lambda^{2}}{w_1 + \\lambda} + 10 \\lambda} + \\frac{ - \\left( \\frac{3 \\lambda^{2}}{w_1 + \\lambda} + \\frac{ - \\left( \\frac{9 \\lambda^{2}}{w_1 + \\lambda} - 12 \\lambda \\right) \\left( \\frac{ - 3 \\lambda^{2}}{w_1 + \\lambda} + 6 \\lambda \\right)}{w_2 + \\frac{ - 9 \\lambda^{2}}{w_1 + \\lambda} + 10 \\lambda} - 15 \\lambda \\right)^{2}}{w_3 + \\frac{ - 9 \\lambda^{2}}{w_1 + \\lambda} + \\frac{ - \\left( \\frac{9 \\lambda^{2}}{w_1 + \\lambda} - 12 \\lambda \\right)^{2}}{w_2 + \\frac{ - 9 \\lambda^{2}}{w_1 + \\lambda} + 10 \\lambda} + 19 \\lambda} + \\frac{ - \\lambda^{2}}{w_1 + \\lambda} + 20 \\lambda} - 12 \\lambda \\right)^{2}}{w_5 + \\frac{ - \\left( \\frac{\\left( \\frac{9 \\lambda^{2}}{w_1 + \\lambda} - 12 \\lambda \\right) \\lambda}{w_2 + \\frac{ - 9 \\lambda^{2}}{w_1 + \\lambda} + 10 \\lambda} + 6 \\lambda \\right)^{2}}{w_3 + \\frac{ - 9 \\lambda^{2}}{w_1 + \\lambda} + \\frac{ - \\left( \\frac{9 \\lambda^{2}}{w_1 + \\lambda} - 12 \\lambda \\right)^{2}}{w_2 + \\frac{ - 9 \\lambda^{2}}{w_1 + \\lambda} + 10 \\lambda} + 19 \\lambda} + \\frac{ - \\left( \\frac{ - \\left( \\frac{\\left( \\frac{9 \\lambda^{2}}{w_1 + \\lambda} - 12 \\lambda \\right) \\lambda}{w_2 + \\frac{ - 9 \\lambda^{2}}{w_1 + \\lambda} + 10 \\lambda} + 6 \\lambda \\right) \\left( \\frac{3 \\lambda^{2}}{w_1 + \\lambda} + \\frac{ - \\left( \\frac{9 \\lambda^{2}}{w_1 + \\lambda} - 12 \\lambda \\right) \\left( \\frac{ - 3 \\lambda^{2}}{w_1 + \\lambda} + 6 \\lambda \\right)}{w_2 + \\frac{ - 9 \\lambda^{2}}{w_1 + \\lambda} + 10 \\lambda} - 15 \\lambda \\right)}{w_3 + \\frac{ - 9 \\lambda^{2}}{w_1 + \\lambda} + \\frac{ - \\left( \\frac{9 \\lambda^{2}}{w_1 + \\lambda} - 12 \\lambda \\right)^{2}}{w_2 + \\frac{ - 9 \\lambda^{2}}{w_1 + \\lambda} + 10 \\lambda} + 19 \\lambda} + \\frac{\\left( \\frac{ - 3 \\lambda^{2}}{w_1 + \\lambda} + 6 \\lambda \\right) \\lambda}{w_2 + \\frac{ - 9 \\lambda^{2}}{w_1 + \\lambda} + 10 \\lambda} - 15 \\lambda \\right)^{2}}{w_4 + \\frac{ - \\left( \\frac{ - 3 \\lambda^{2}}{w_1 + \\lambda} + 6 \\lambda \\right)^{2}}{w_2 + \\frac{ - 9 \\lambda^{2}}{w_1 + \\lambda} + 10 \\lambda} + \\frac{ - \\left( \\frac{3 \\lambda^{2}}{w_1 + \\lambda} + \\frac{ - \\left( \\frac{9 \\lambda^{2}}{w_1 + \\lambda} - 12 \\lambda \\right) \\left( \\frac{ - 3 \\lambda^{2}}{w_1 + \\lambda} + 6 \\lambda \\right)}{w_2 + \\frac{ - 9 \\lambda^{2}}{w_1 + \\lambda} + 10 \\lambda} - 15 \\lambda \\right)^{2}}{w_3 + \\frac{ - 9 \\lambda^{2}}{w_1 + \\lambda} + \\frac{ - \\left( \\frac{9 \\lambda^{2}}{w_1 + \\lambda} - 12 \\lambda \\right)^{2}}{w_2 + \\frac{ - 9 \\lambda^{2}}{w_1 + \\lambda} + 10 \\lambda} + 19 \\lambda} + \\frac{ - \\lambda^{2}}{w_1 + \\lambda} + 20 \\lambda} + \\frac{ - \\lambda^{2}}{w_2 + \\frac{ - 9 \\lambda^{2}}{w_1 + \\lambda} + 10 \\lambda} + 19 \\lambda} + 10 \\lambda} & 1 \\\\\n",
       "\\end{array}\n",
       "\\right]\n",
       "\\end{equation}\n",
       " $$"
      ],
      "text/plain": [
       "7×7 Matrix{Num}:\n",
       "               1                 …  0\n",
       "             (-3.0λ) / (w₁ + λ)     0\n",
       "              (3.0λ) / (w₁ + λ)     0\n",
       " (-λ) / (w₁ + λ)                    0\n",
       "               0.0                  0\n",
       "               0.0               …  0\n",
       "               0.0                  1"
      ]
     },
     "metadata": {},
     "output_type": "display_data"
    }
   ],
   "source": [
    "n = 7\n",
    "\n",
    "w = variables(:w, 1:n)\n",
    "D = ddmat(1:n, 3)\n",
    "\n",
    "# M = diagm(ones(n))\n",
    "M = diag_m(w[1:n]) + λ * D' * D\n",
    "display(M)\n",
    "# M = diagm(W) + λ * D' * D\n",
    "# inv(M)\n",
    "# U = deepcopy(M)\n",
    "# L = typeof(U)(diagm(ones(n)));\n",
    "\n",
    "r = lu(M)\n",
    "r.L\n",
    "# diag(r.U)[1:n]"
   ]
  },
  {
   "cell_type": "markdown",
   "id": "8af76dfd-c7ed-440c-8ce8-982289ebfa50",
   "metadata": {},
   "source": [
    "## 2. 一种更简明的公式推导方法"
   ]
  },
  {
   "cell_type": "code",
   "execution_count": null,
   "id": "51947888-a1e3-4ade-9df4-dc4caeb2add2",
   "metadata": {},
   "outputs": [],
   "source": [
    "d = variables(:d, 1:n)\n",
    "c = variables(:c, 1:n)\n",
    "e = variables(:e, 1:n)\n",
    "f = variables(:f, 1:n)\n",
    "\n",
    "U = deepcopy(M)\n",
    "L = typeof(U)(diagm(ones(n)))\n",
    "\n",
    "## Elier采用的是LU分解 \n",
    "# 仅运行三次，猜测公式的形式\n",
    "for i = 1:n-1\n",
    "    r1 = U[i, :]\n",
    "    j = i+1\n",
    "    c[i] = U[j, i] / d[i]\n",
    "    L[j, i] = c[i] # ci, ei\n",
    "    U[j, :] .= U[j, :] .- (c[i] * r1)\n",
    "    d[i] = U[i, i]\n",
    "    \n",
    "    j = i+2\n",
    "    j > n && continue\n",
    "    e[i] = U[j, i] / U[i, i]\n",
    "    L[j, i] = e[i] # ci, ei\n",
    "    U[j, :] .= U[j, :] .- (e[i] * r1)\n",
    "\n",
    "    j = i+3\n",
    "    j > n && continue\n",
    "    f[i] = U[j, i] / U[i, i]\n",
    "    L[j, i] = f[i] # ci, ei\n",
    "    U[j, :] .= U[j, :] .- (f[i] * r1)\n",
    "    # for j = i+1:min(i+2, n)\n",
    "    #     f = U[j, i] / U[i, i]\n",
    "    #     L[j, i] = f # ci, ei\n",
    "    #     U[j, :] .= U[j, :] .- (f * r1)\n",
    "    # end\n",
    "end\n",
    "\n",
    "## Elier采用的是LU分解 \n",
    "display(L)\n",
    "# display(U)\n"
   ]
  },
  {
   "cell_type": "code",
   "execution_count": null,
   "id": "663aaf1a-5ccb-495f-95d6-35228826cbc4",
   "metadata": {},
   "outputs": [],
   "source": [
    "d"
   ]
  },
  {
   "cell_type": "code",
   "execution_count": null,
   "id": "c80fd687-a0d6-4f73-8e6d-cb4158065161",
   "metadata": {},
   "outputs": [],
   "source": [
    "# U = deepcopy(M)\n",
    "# L,U = LU_decompose(U)\n",
    "# L"
   ]
  }
 ],
 "metadata": {
  "kernelspec": {
   "display_name": "Julia 1.10.3",
   "language": "julia",
   "name": "julia-1.10"
  },
  "language_info": {
   "file_extension": ".jl",
   "mimetype": "application/julia",
   "name": "julia",
   "version": "1.10.3"
  }
 },
 "nbformat": 4,
 "nbformat_minor": 5
}
