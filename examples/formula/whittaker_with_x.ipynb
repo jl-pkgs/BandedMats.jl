{
 "cells": [
  {
   "cell_type": "code",
   "execution_count": 1,
   "metadata": {},
   "outputs": [
    {
     "data": {
      "text/plain": [
       "ddmat (generic function with 2 methods)"
      ]
     },
     "metadata": {},
     "output_type": "display_data"
    }
   ],
   "source": [
    "include(\"main_whit.jl\")\n"
   ]
  },
  {
   "cell_type": "code",
   "execution_count": 2,
   "metadata": {},
   "outputs": [
    {
     "data": {
      "text/latex": [
       "$$ \\begin{equation}\n",
       "\\left[\n",
       "\\begin{array}{cccc}\n",
       "0 & 0 & 0 & 0 \\\\\n",
       "a_{2}ˏ_1 & 0 & 0 & 0 \\\\\n",
       "a_{3}ˏ_1 & a_{3}ˏ_2 & 0 & 0 \\\\\n",
       "a_{4}ˏ_1 & a_{4}ˏ_2 & a_{4}ˏ_3 & 0 \\\\\n",
       "\\end{array}\n",
       "\\right]\n",
       "\\end{equation}\n",
       " $$"
      ],
      "text/plain": [
       "4×4 Matrix{Num}:\n",
       "    0     0.0     0.0  0.0\n",
       " a₂ˏ₁     0       0.0  0.0\n",
       " a₃ˏ₁  a₃ˏ₂       0    0.0\n",
       " a₄ˏ₁  a₄ˏ₂    a₄ˏ₃    0"
      ]
     },
     "metadata": {},
     "output_type": "display_data"
    }
   ],
   "source": [
    "n = 4\n",
    "L = tri_lower(:a, n)\n",
    "U = tri_upper(:a, n)\n",
    "U2 = L - diag_m(diag(L))\n",
    "B = Mat(:b, n)\n",
    "U2"
   ]
  },
  {
   "cell_type": "code",
   "execution_count": 32,
   "metadata": {},
   "outputs": [
    {
     "data": {
      "text/latex": [
       "$$ \\begin{equation}\n",
       "\\left[\n",
       "\\begin{array}{cccc}\n",
       "0 & 0 & 0 & 0 \\\\\n",
       "a_{2}ˏ_1 b_{1}ˏ_1 & a_{2}ˏ_1 b_{1}ˏ_2 & a_{2}ˏ_1 b_{1}ˏ_3 & a_{2}ˏ_1 b_{1}ˏ_4 \\\\\n",
       "a_{3}ˏ_1 b_{1}ˏ_1 + a_{3}ˏ_2 b_{2}ˏ_1 & a_{3}ˏ_1 b_{1}ˏ_2 + a_{3}ˏ_2 b_{2}ˏ_2 & a_{3}ˏ_1 b_{1}ˏ_3 + a_{3}ˏ_2 b_{2}ˏ_3 & a_{3}ˏ_1 b_{1}ˏ_4 + a_{3}ˏ_2 b_{2}ˏ_4 \\\\\n",
       "a_{4}ˏ_1 b_{1}ˏ_1 + a_{4}ˏ_2 b_{2}ˏ_1 + a_{4}ˏ_3 b_{3}ˏ_1 & a_{4}ˏ_1 b_{1}ˏ_2 + a_{4}ˏ_2 b_{2}ˏ_2 + a_{4}ˏ_3 b_{3}ˏ_2 & a_{4}ˏ_1 b_{1}ˏ_3 + a_{4}ˏ_2 b_{2}ˏ_3 + a_{4}ˏ_3 b_{3}ˏ_3 & a_{4}ˏ_1 b_{1}ˏ_4 + a_{4}ˏ_2 b_{2}ˏ_4 + a_{4}ˏ_3 b_{3}ˏ_4 \\\\\n",
       "\\end{array}\n",
       "\\right]\n",
       "\\end{equation}\n",
       " $$"
      ],
      "text/plain": [
       "4×4 Matrix{Num}:\n",
       "                                 0.0  …                                  0.0\n",
       "                         a₂ˏ₁*b₁ˏ₁                               a₂ˏ₁*b₁ˏ₄\n",
       "             a₃ˏ₁*b₁ˏ₁ + a₃ˏ₂*b₂ˏ₁                   a₃ˏ₁*b₁ˏ₄ + a₃ˏ₂*b₂ˏ₄\n",
       " a₄ˏ₁*b₁ˏ₁ + a₄ˏ₂*b₂ˏ₁ + a₄ˏ₃*b₃ˏ₁       a₄ˏ₁*b₁ˏ₄ + a₄ˏ₂*b₂ˏ₄ + a₄ˏ₃*b₃ˏ₄"
      ]
     },
     "execution_count": 32,
     "metadata": {},
     "output_type": "execute_result"
    }
   ],
   "source": [
    "U2 * B "
   ]
  },
  {
   "cell_type": "code",
   "execution_count": 24,
   "metadata": {},
   "outputs": [
    {
     "data": {
      "text/latex": [
       "$$ \\begin{equation}\n",
       "\\left[\n",
       "\\begin{array}{cccccc}\n",
       "w_1 + x_1^{2} \\lambda &  - 3 x_1 x_2 \\lambda & 3 x_1 x_3 \\lambda &  - x_1 x_4 \\lambda & 0 & 0 \\\\\n",
       " - 3 x_1 x_2 \\lambda & w_2 + 10 x_2^{2} \\lambda &  - 12 x_2 x_3 \\lambda & 6 x_2 x_4 \\lambda &  - x_2 x_5 \\lambda & 0 \\\\\n",
       "3 x_1 x_3 \\lambda &  - 12 x_2 x_3 \\lambda & w_3 + 19 x_3^{2} \\lambda &  - 15 x_3 x_4 \\lambda & 6 x_3 x_5 \\lambda &  - x_3 x_6 \\lambda \\\\\n",
       " - x_1 x_4 \\lambda & 6 x_2 x_4 \\lambda &  - 15 x_3 x_4 \\lambda & w_4 + 19 x_4^{2} \\lambda &  - 12 x_4 x_5 \\lambda & 3 x_4 x_6 \\lambda \\\\\n",
       "0 &  - x_2 x_5 \\lambda & 6 x_3 x_5 \\lambda &  - 12 x_4 x_5 \\lambda & w_5 + 10 x_5^{2} \\lambda &  - 3 x_5 x_6 \\lambda \\\\\n",
       "0 & 0 &  - x_3 x_6 \\lambda & 3 x_4 x_6 \\lambda &  - 3 x_5 x_6 \\lambda & w_6 + x_6^{2} \\lambda \\\\\n",
       "\\end{array}\n",
       "\\right]\n",
       "\\end{equation}\n",
       " $$"
      ],
      "text/plain": [
       "6×6 Matrix{Num}:\n",
       " w₁ + (x₁^2)*λ          -3x₁*x₂*λ    …                0.0              0.0\n",
       "     -3x₁*x₂*λ    w₂ + 10(x₂^2)*λ              -x₂*x₅*λ                0.0\n",
       "      3x₁*x₃*λ         -12x₂*x₃*λ              6x₃*x₅*λ         -x₃*x₆*λ\n",
       "      -x₁*x₄*λ           6x₂*x₄*λ            -12x₄*x₅*λ         3x₄*x₆*λ\n",
       "             0.0         -x₂*x₅*λ       w₅ + 10(x₅^2)*λ        -3x₅*x₆*λ\n",
       "             0.0                0.0  …        -3x₅*x₆*λ    w₆ + (x₆^2)*λ"
      ]
     },
     "metadata": {},
     "output_type": "display_data"
    }
   ],
   "source": [
    "n = 6\n",
    "m = 3\n",
    "# @variables x[1:n]\n",
    "w = variables(:w, 1:n)\n",
    "x = variables(:x, 1:n)\n",
    "# x = 1:n\n",
    "X = diag_m(x)\n",
    "D = diff(X, m)\n",
    "\n",
    "M = diag_m(w[1:n]) + λ * D' * D\n",
    "display(M) # M是对称的，仅需一半的元素即可表示\n",
    "\n",
    "# lu(M).L"
   ]
  },
  {
   "cell_type": "code",
   "execution_count": 74,
   "metadata": {},
   "outputs": [
    {
     "data": {
      "text/latex": [
       "$$ \\begin{equation}\n",
       "\\left[\n",
       "\\begin{array}{cccccc}\n",
       "a_{1}ˏ_1 & a_{1}ˏ_2 & a_{1}ˏ_3 & a_{1}ˏ_4 & 0 & 0 \\\\\n",
       "0 & a_{2}ˏ_2 + \\frac{ - a_{1}ˏ_2 a_{1}ˏ_3}{a_{1}ˏ_1} & a_{2}ˏ_3 + \\frac{ - a_{1}ˏ_3 a_{1}ˏ_4}{a_{1}ˏ_1} & a_{2}ˏ_4 & a_{2}ˏ_5 & 0 \\\\\n",
       "0 & 0 & a_{3}ˏ_3 + \\frac{ - \\left( a_{2}ˏ_3 + \\frac{ - a_{1}ˏ_3 a_{1}ˏ_4}{a_{1}ˏ_1} \\right) a_{2}ˏ_5}{a_{2}ˏ_2 + \\frac{ - a_{1}ˏ_2 a_{1}ˏ_3}{a_{1}ˏ_1}} & a_{3}ˏ_4 & a_{3}ˏ_5 & a_{3}ˏ_6 \\\\\n",
       "0 & 0 & 0 & u_{4}ˏ_4 & u_{4}ˏ_5 & 0 \\\\\n",
       "0 & 0 & 0 & 0 & u_{5}ˏ_5 & 0 \\\\\n",
       "0 & 0 & 0 & 0 & 0 & 0 \\\\\n",
       "\\end{array}\n",
       "\\right]\n",
       "\\end{equation}\n",
       " $$"
      ],
      "text/plain": [
       "6×6 Matrix{Num}:\n",
       " a₁ˏ₁                        a₁ˏ₂  …  a₁ˏ₄     0     0\n",
       "    0  a₂ˏ₂ + (-a₁ˏ₂*a₁ˏ₃) / a₁ˏ₁     a₂ˏ₄  a₂ˏ₅     0\n",
       "    0                           0     a₃ˏ₄  a₃ˏ₅  a₃ˏ₆\n",
       "    0                           0     u₄ˏ₄  u₄ˏ₅     0\n",
       "    0                           0        0  u₅ˏ₅     0\n",
       "    0                           0  …     0     0     0"
      ]
     },
     "execution_count": 74,
     "metadata": {},
     "output_type": "execute_result"
    }
   ],
   "source": [
    "U = tri_upper(:u, n)\n",
    "m = 3\n",
    "for i = 1:n, j = min(i+m+1,n):n\n",
    "    U[i, j] = 0\n",
    "end\n",
    "\n",
    "for i = 1:3\n",
    "    for j = i:min(i+m,n)\n",
    "        # @show i, j\n",
    "        U[i, j] = A[i, j] \n",
    "        for k = 1:min(m, i-1)\n",
    "            i + j - 1 > n && continue\n",
    "            U[i, j] -= U[i-k, j] * U[i-k, i + j - 1] / U[i-k, i-k] #- U[i-2, j]^2 / U[i-2, i-2]\n",
    "        end\n",
    "    end\n",
    "end\n",
    "U"
   ]
  },
  {
   "cell_type": "code",
   "execution_count": 47,
   "metadata": {},
   "outputs": [
    {
     "data": {
      "text/plain": [
       "6"
      ]
     },
     "execution_count": 47,
     "metadata": {},
     "output_type": "execute_result"
    }
   ],
   "source": [
    "n"
   ]
  },
  {
   "cell_type": "code",
   "execution_count": null,
   "metadata": {},
   "outputs": [],
   "source": [
    "n = 6\n",
    "m = 3\n",
    "A = variables(:a, 1:n, 1:n)\n",
    "for i = 1:n\n",
    "    for j = i+m+1:n\n",
    "        A[i, j] = 0\n",
    "    end\n",
    "    for j = 1:i-1\n",
    "        A[i, j] = A[j, i]\n",
    "    end\n",
    "end\n",
    "A\n",
    "# display(A)\n",
    "# lu(A).U'"
   ]
  },
  {
   "cell_type": "code",
   "execution_count": null,
   "metadata": {},
   "outputs": [],
   "source": []
  },
  {
   "cell_type": "code",
   "execution_count": 5,
   "metadata": {},
   "outputs": [
    {
     "data": {
      "text/latex": [
       "$$ \\begin{equation}\n",
       "\\left[\n",
       "\\begin{array}{cccc}\n",
       "1 & 0 & 0 & 0 \\\\\n",
       "\\frac{ - 3 x_1 x_2 \\lambda}{w_1 + x_1^{2} \\lambda} & 1 & 0 & 0 \\\\\n",
       "\\frac{3 x_1 x_3 \\lambda}{w_1 + x_1^{2} \\lambda} & \\frac{\\frac{9 \\lambda^{2} x_1^{2} x_2 x_3}{w_1 + x_1^{2} \\lambda} - 9 x_2 x_3 \\lambda}{w_2 + \\frac{ - 9 \\lambda^{2} x_2^{2} x_1^{2}}{w_1 + x_1^{2} \\lambda} + 9 x_2^{2} \\lambda} & 1 & 0 \\\\\n",
       "\\frac{ - x_1 x_4 \\lambda}{w_1 + x_1^{2} \\lambda} & \\frac{\\frac{ - 3 \\lambda^{2} x_1^{2} x_2 x_4}{w_1 + x_1^{2} \\lambda} + 3 x_2 x_4 \\lambda}{w_2 + \\frac{ - 9 \\lambda^{2} x_2^{2} x_1^{2}}{w_1 + x_1^{2} \\lambda} + 9 x_2^{2} \\lambda} & \\frac{\\frac{ - \\left( \\frac{9 \\lambda^{2} x_1^{2} x_2 x_3}{w_1 + x_1^{2} \\lambda} - 9 x_2 x_3 \\lambda \\right) \\left( \\frac{ - 3 \\lambda^{2} x_1^{2} x_2 x_4}{w_1 + x_1^{2} \\lambda} + 3 x_2 x_4 \\lambda \\right)}{w_2 + \\frac{ - 9 \\lambda^{2} x_2^{2} x_1^{2}}{w_1 + x_1^{2} \\lambda} + 9 x_2^{2} \\lambda} + \\frac{3 \\lambda^{2} x_1^{2} x_3 x_4}{w_1 + x_1^{2} \\lambda} - 3 x_3 x_4 \\lambda}{w_3 + \\frac{ - 9 \\lambda^{2} x_3^{2} x_1^{2}}{w_1 + x_1^{2} \\lambda} + \\frac{ - \\left( \\frac{9 \\lambda^{2} x_1^{2} x_2 x_3}{w_1 + x_1^{2} \\lambda} - 9 x_2 x_3 \\lambda \\right)^{2}}{w_2 + \\frac{ - 9 \\lambda^{2} x_2^{2} x_1^{2}}{w_1 + x_1^{2} \\lambda} + 9 x_2^{2} \\lambda} + 9 x_3^{2} \\lambda} & 1 \\\\\n",
       "\\end{array}\n",
       "\\right]\n",
       "\\end{equation}\n",
       " $$"
      ],
      "text/plain": [
       "4×4 Matrix{Num}:\n",
       "                             1  …  0\n",
       " (-3x₁*x₂*λ) / (w₁ + (x₁^2)*λ)     0\n",
       "  (3x₁*x₃*λ) / (w₁ + (x₁^2)*λ)     0\n",
       "  (-x₁*x₄*λ) / (w₁ + (x₁^2)*λ)     1"
      ]
     },
     "execution_count": 5,
     "metadata": {},
     "output_type": "execute_result"
    }
   ],
   "source": [
    "r = lu(M)\n",
    "r.L"
   ]
  }
 ],
 "metadata": {
  "kernelspec": {
   "display_name": "Julia 1.10.3",
   "language": "julia",
   "name": "julia-1.10"
  },
  "language_info": {
   "file_extension": ".jl",
   "mimetype": "application/julia",
   "name": "julia",
   "version": "1.10.3"
  }
 },
 "nbformat": 4,
 "nbformat_minor": 4
}
