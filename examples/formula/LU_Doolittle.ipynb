{
 "cells": [
  {
   "cell_type": "code",
   "execution_count": 1,
   "metadata": {},
   "outputs": [],
   "source": [
    "using Revise\n",
    "using Test\n",
    "\n",
    "includet(\"main_whit.jl\")"
   ]
  },
  {
   "cell_type": "markdown",
   "metadata": {},
   "source": [
    "## 1. 一般矩阵"
   ]
  },
  {
   "cell_type": "code",
   "execution_count": 241,
   "metadata": {},
   "outputs": [
    {
     "data": {
      "text/latex": [
       "$$ \\begin{equation}\n",
       "\\left[\n",
       "\\begin{array}{c}\n",
       "0 \\\\\n",
       "0 \\\\\n",
       "0 \\\\\n",
       "\\end{array}\n",
       "\\right]\n",
       "\\end{equation}\n",
       " $$"
      ],
      "text/plain": [
       "3-element Vector{Num}:\n",
       " 0\n",
       " 0\n",
       " 0"
      ]
     },
     "metadata": {},
     "output_type": "display_data"
    }
   ],
   "source": [
    "n = 3\n",
    "# p, q = 1, 2\n",
    "a = Mat(:a, n)\n",
    "b = Vec(:b, n)\n",
    "\n",
    "r = lu(a)\n",
    "UX = solve_L(r.L, b)\n",
    "x2 = solve_U(r.U, UX)\n",
    "\n",
    "x2 - x\n",
    "# x = a \\ b"
   ]
  },
  {
   "cell_type": "markdown",
   "metadata": {},
   "source": [
    "## 2. band matrix\n"
   ]
  },
  {
   "cell_type": "code",
   "execution_count": 16,
   "metadata": {},
   "outputs": [
    {
     "data": {
      "text/latex": [
       "$$ \\begin{equation}\n",
       "\\left[\n",
       "\\begin{array}{ccccc}\n",
       "a_{1}ˏ_1 & a_{1}ˏ_2 & 0 & 0 & 0 \\\\\n",
       "a_{2}ˏ_1 & a_{2}ˏ_2 & a_{2}ˏ_3 & 0 & 0 \\\\\n",
       "a_{3}ˏ_1 & a_{3}ˏ_2 & a_{3}ˏ_3 & a_{3}ˏ_4 & 0 \\\\\n",
       "0 & a_{4}ˏ_2 & a_{4}ˏ_3 & a_{4}ˏ_4 & a_{4}ˏ_5 \\\\\n",
       "0 & 0 & a_{5}ˏ_3 & a_{5}ˏ_4 & a_{5}ˏ_5 \\\\\n",
       "\\end{array}\n",
       "\\right]\n",
       "\\end{equation}\n",
       " $$"
      ],
      "text/plain": [
       "5×5 Matrix{Num}:\n",
       " a₁ˏ₁  a₁ˏ₂     0     0     0\n",
       " a₂ˏ₁  a₂ˏ₂  a₂ˏ₃     0     0\n",
       " a₃ˏ₁  a₃ˏ₂  a₃ˏ₃  a₃ˏ₄     0\n",
       "    0  a₄ˏ₂  a₄ˏ₃  a₄ˏ₄  a₄ˏ₅\n",
       "    0     0  a₅ˏ₃  a₅ˏ₄  a₅ˏ₅"
      ]
     },
     "metadata": {},
     "output_type": "display_data"
    },
    {
     "data": {
      "text/plain": [
       "\u001b[34m\u001b[4mBandMatrix{Num}: p = 2, q = 1 \u001b[24m\u001b[39m\n"
      ]
     },
     "metadata": {},
     "output_type": "display_data"
    }
   ],
   "source": [
    "includet(\"BandMatrix.jl\")\n",
    "n = 5\n",
    "p, q = 2, 1\n",
    "\n",
    "a = band_matrix(:a, n, p, q)\n",
    "# a = Mat_band(:a, n; p, q)"
   ]
  },
  {
   "cell_type": "code",
   "execution_count": 250,
   "metadata": {},
   "outputs": [
    {
     "data": {
      "text/latex": [
       "$$ \\begin{equation}\n",
       "\\left[\n",
       "\\begin{array}{cccc}\n",
       "a_{1}ˏ_1 & a_{1}ˏ_2 & 0 & 0 \\\\\n",
       "a_{2}ˏ_1 & a_{2}ˏ_2 & a_{2}ˏ_3 & 0 \\\\\n",
       "a_{3}ˏ_1 & a_{3}ˏ_2 & a_{3}ˏ_3 & a_{3}ˏ_4 \\\\\n",
       "0 & a_{4}ˏ_2 & a_{4}ˏ_3 & a_{4}ˏ_4 \\\\\n",
       "\\end{array}\n",
       "\\right]\n",
       "\\end{equation}\n",
       " $$"
      ],
      "text/plain": [
       "4×4 Matrix{Num}:\n",
       " a₁ˏ₁  a₁ˏ₂     0     0\n",
       " a₂ˏ₁  a₂ˏ₂  a₂ˏ₃     0\n",
       " a₃ˏ₁  a₃ˏ₂  a₃ˏ₃  a₃ˏ₄\n",
       "    0  a₄ˏ₂  a₄ˏ₃  a₄ˏ₄"
      ]
     },
     "metadata": {},
     "output_type": "display_data"
    },
    {
     "data": {
      "text/latex": [
       "$$ \\begin{equation}\n",
       "\\left[\n",
       "\\begin{array}{cc}\n",
       "0 & 0 \\\\\n",
       "0 & 0 \\\\\n",
       "0 & 0 \\\\\n",
       "0 & 0 \\\\\n",
       "\\end{array}\n",
       "\\right]\n",
       "\\end{equation}\n",
       " $$"
      ],
      "text/plain": [
       "4×2 Matrix{Num}:\n",
       " 0  0\n",
       " 0  0\n",
       " 0  0\n",
       " 0  0"
      ]
     },
     "metadata": {},
     "output_type": "display_data"
    }
   ],
   "source": [
    "## 1. LU_band passed test\n",
    "n = 4\n",
    "# p, q = 1, 2\n",
    "p, q = 2, 1\n",
    "a = Mat_band(:a, n; p, q)\n",
    "b = Vec(:b, n)\n",
    "display(a)\n",
    "\n",
    "L, U = LU_band(a; p, q)\n",
    "U - zip_U(lu(a).U, q)"
   ]
  },
  {
   "cell_type": "code",
   "execution_count": 255,
   "metadata": {},
   "outputs": [
    {
     "data": {
      "text/latex": [
       "$$ \\begin{equation}\n",
       "\\left[\n",
       "\\begin{array}{c}\n",
       "0 \\\\\n",
       "0 \\\\\n",
       "0 \\\\\n",
       "0 \\\\\n",
       "\\end{array}\n",
       "\\right]\n",
       "\\end{equation}\n",
       " $$"
      ],
      "text/plain": [
       "4-element Vector{Num}:\n",
       " 0\n",
       " 0\n",
       " 0\n",
       " 0"
      ]
     },
     "metadata": {},
     "output_type": "display_data"
    }
   ],
   "source": [
    "UX = band_solve_L(L, b)\n",
    "x2 = band_solve_U(U, UX)\n",
    "\n",
    "x = a \\ b\n",
    "x - x2"
   ]
  },
  {
   "cell_type": "markdown",
   "metadata": {},
   "source": [
    "## 3. 对称矩阵\n"
   ]
  },
  {
   "cell_type": "markdown",
   "metadata": {},
   "source": [
    "### 3.1 一般对称矩阵\n"
   ]
  },
  {
   "cell_type": "code",
   "execution_count": 224,
   "metadata": {},
   "outputs": [
    {
     "data": {
      "text/latex": [
       "$$ \\begin{equation}\n",
       "\\left[\n",
       "\\begin{array}{ccccc}\n",
       "a_{1}ˏ_1 & a_{1}ˏ_2 & a_{1}ˏ_3 & 0 & 0 \\\\\n",
       "a_{1}ˏ_2 & a_{2}ˏ_2 & a_{2}ˏ_3 & a_{2}ˏ_4 & 0 \\\\\n",
       "a_{1}ˏ_3 & a_{2}ˏ_3 & a_{3}ˏ_3 & a_{3}ˏ_4 & a_{3}ˏ_5 \\\\\n",
       "0 & a_{2}ˏ_4 & a_{3}ˏ_4 & a_{4}ˏ_4 & a_{4}ˏ_5 \\\\\n",
       "0 & 0 & a_{3}ˏ_5 & a_{4}ˏ_5 & a_{5}ˏ_5 \\\\\n",
       "\\end{array}\n",
       "\\right]\n",
       "\\end{equation}\n",
       " $$"
      ],
      "text/plain": [
       "5×5 Matrix{Num}:\n",
       " a₁ˏ₁  a₁ˏ₂  a₁ˏ₃     0     0\n",
       " a₁ˏ₂  a₂ˏ₂  a₂ˏ₃  a₂ˏ₄     0\n",
       " a₁ˏ₃  a₂ˏ₃  a₃ˏ₃  a₃ˏ₄  a₃ˏ₅\n",
       "    0  a₂ˏ₄  a₃ˏ₄  a₄ˏ₄  a₄ˏ₅\n",
       "    0     0  a₃ˏ₅  a₄ˏ₅  a₅ˏ₅"
      ]
     },
     "metadata": {},
     "output_type": "display_data"
    }
   ],
   "source": [
    "## 1. LU_band passed test\n",
    "n = 5\n",
    "p, q = 2, 2\n",
    "a = Mat_band(:a, n; p, q)\n",
    "a\n",
    "for i = 1:n, j = 1:i-1\n",
    "  a[i, j] = a[j, i]\n",
    "end\n",
    "a"
   ]
  },
  {
   "cell_type": "code",
   "execution_count": 225,
   "metadata": {},
   "outputs": [
    {
     "data": {
      "text/latex": [
       "$$ \\begin{equation}\n",
       "\\left[\n",
       "\\begin{array}{ccccc}\n",
       "0 & 0 & 0 & 0 & 0 \\\\\n",
       "0 & 0 & 0 & 0 & 0 \\\\\n",
       "0 & 0 & 0 & 0 & 0 \\\\\n",
       "0 & 0 & 0 & 0 & 0 \\\\\n",
       "0 & 0 & 0 & 0 & 0 \\\\\n",
       "\\end{array}\n",
       "\\right]\n",
       "\\end{equation}\n",
       " $$"
      ],
      "text/plain": [
       "5×5 Matrix{Num}:\n",
       " 0  0  0  0  0\n",
       " 0  0  0  0  0\n",
       " 0  0  0  0  0\n",
       " 0  0  0  0  0\n",
       " 0  0  0  0  0"
      ]
     },
     "metadata": {},
     "output_type": "display_data"
    }
   ],
   "source": [
    "# L, U = LU_full(a;)\n",
    "L, U = LU_full(a; symmetry=true)\n",
    "U - lu(a).U"
   ]
  },
  {
   "cell_type": "markdown",
   "metadata": {},
   "source": [
    "### 3.2 带状对称矩阵"
   ]
  },
  {
   "cell_type": "code",
   "execution_count": 228,
   "metadata": {},
   "outputs": [
    {
     "data": {
      "text/latex": [
       "$$ \\begin{equation}\n",
       "\\left[\n",
       "\\begin{array}{ccccc}\n",
       "a_{1}ˏ_1 & a_{1}ˏ_2 & a_{1}ˏ_3 & a_{1}ˏ_4 & 0 \\\\\n",
       "a_{2}ˏ_1 & a_{2}ˏ_2 & a_{2}ˏ_3 & a_{2}ˏ_4 & a_{2}ˏ_5 \\\\\n",
       "a_{3}ˏ_1 & a_{3}ˏ_2 & a_{3}ˏ_3 & a_{3}ˏ_4 & a_{3}ˏ_5 \\\\\n",
       "a_{4}ˏ_1 & a_{4}ˏ_2 & a_{4}ˏ_3 & a_{4}ˏ_4 & a_{4}ˏ_5 \\\\\n",
       "0 & a_{5}ˏ_2 & a_{5}ˏ_3 & a_{5}ˏ_4 & a_{5}ˏ_5 \\\\\n",
       "\\end{array}\n",
       "\\right]\n",
       "\\end{equation}\n",
       " $$"
      ],
      "text/plain": [
       "5×5 Matrix{Num}:\n",
       " a₁ˏ₁  a₁ˏ₂  a₁ˏ₃  a₁ˏ₄     0\n",
       " a₂ˏ₁  a₂ˏ₂  a₂ˏ₃  a₂ˏ₄  a₂ˏ₅\n",
       " a₃ˏ₁  a₃ˏ₂  a₃ˏ₃  a₃ˏ₄  a₃ˏ₅\n",
       " a₄ˏ₁  a₄ˏ₂  a₄ˏ₃  a₄ˏ₄  a₄ˏ₅\n",
       "    0  a₅ˏ₂  a₅ˏ₃  a₅ˏ₄  a₅ˏ₅"
      ]
     },
     "metadata": {},
     "output_type": "display_data"
    }
   ],
   "source": [
    "## 1. LU_band passed test\n",
    "n = 5\n",
    "p = q = 3\n",
    "a = Mat_band(:a, n; p, q)\n",
    "# a\n",
    "# for i = 1:n, j = 1:i-1\n",
    "#   a[i, j] = a[j, i]\n",
    "# end\n",
    "# a\n"
   ]
  },
  {
   "cell_type": "code",
   "execution_count": 230,
   "metadata": {},
   "outputs": [
    {
     "data": {
      "text/latex": [
       "$$ \\begin{equation}\n",
       "\\left[\n",
       "\\begin{array}{cccc}\n",
       "0 & 0 & 0 & 0 \\\\\n",
       "0 & 0 & 0 & 0 \\\\\n",
       "0 & 0 & 0 & 0 \\\\\n",
       "0 & 0 & 0 & 0 \\\\\n",
       "0 & 0 & 0 & 0 \\\\\n",
       "\\end{array}\n",
       "\\right]\n",
       "\\end{equation}\n",
       " $$"
      ],
      "text/plain": [
       "5×4 Matrix{Num}:\n",
       " 0  0  0  0\n",
       " 0  0  0  0\n",
       " 0  0  0  0\n",
       " 0  0  0  0\n",
       " 0  0  0  0"
      ]
     },
     "metadata": {},
     "output_type": "display_data"
    }
   ],
   "source": [
    "L, U = LU_band(a; p, q, symmetry=false)\n",
    "U - zip_U(lu(a).U, q)"
   ]
  },
  {
   "cell_type": "code",
   "execution_count": 186,
   "metadata": {},
   "outputs": [
    {
     "data": {
      "text/latex": [
       "$$ \\begin{equation}\n",
       "\\left[\n",
       "\\begin{array}{ccc}\n",
       "0 & 0 & 0 \\\\\n",
       "0 & 0 & 0 \\\\\n",
       "0 & 0 & 0 \\\\\n",
       "\\end{array}\n",
       "\\right]\n",
       "\\end{equation}\n",
       " $$"
      ],
      "text/plain": [
       "3×3 Matrix{Num}:\n",
       " 0  0  0\n",
       " 0  0  0\n",
       " 0  0  0"
      ]
     },
     "metadata": {},
     "output_type": "display_data"
    }
   ],
   "source": [
    "## 2. 对称矩阵的额外收益\n",
    "# L和U矩阵，同时都需要\n",
    "\n",
    "# lu(a).U"
   ]
  },
  {
   "cell_type": "code",
   "execution_count": 54,
   "metadata": {},
   "outputs": [
    {
     "data": {
      "text/latex": [
       "$$ \\begin{equation}\n",
       "\\left[\n",
       "\\begin{array}{ccc}\n",
       "1 & 0 & 0 \\\\\n",
       "\\frac{a_{2}ˏ_1}{a_{1}ˏ_1} & 1 & 0 \\\\\n",
       "\\frac{a_{3}ˏ_1}{a_{1}ˏ_1} & \\frac{a_{3}ˏ_2 + \\frac{ - a_{1}ˏ_2 a_{3}ˏ_1}{a_{1}ˏ_1}}{a_{2}ˏ_2 + \\frac{ - a_{1}ˏ_2 a_{2}ˏ_1}{a_{1}ˏ_1}} & 1 \\\\\n",
       "\\end{array}\n",
       "\\right]\n",
       "\\end{equation}\n",
       " $$"
      ],
      "text/plain": [
       "3×3 Matrix{Num}:\n",
       "           1                                                            0  0\n",
       " a₂ˏ₁ / a₁ˏ₁                                                            1  0\n",
       " a₃ˏ₁ / a₁ˏ₁  (a₃ˏ₂ + (-a₁ˏ₂*a₃ˏ₁) / a₁ˏ₁) / (a₂ˏ₂ + (-a₁ˏ₂*a₂ˏ₁) / a₁ˏ₁)  1"
      ]
     },
     "metadata": {},
     "output_type": "display_data"
    },
    {
     "data": {
      "text/latex": [
       "$$ \\begin{equation}\n",
       "\\left[\n",
       "\\begin{array}{ccc}\n",
       "\\frac{a_{2}ˏ_1}{a_{1}ˏ_1} & \\frac{a_{3}ˏ_2 + \\frac{ - a_{1}ˏ_2 a_{2}ˏ_1}{a_{1}ˏ_1}}{a_{2}ˏ_2 + \\frac{ - a_{1}ˏ_2 a_{2}ˏ_1}{a_{1}ˏ_1}} & 0 \\\\\n",
       "\\frac{a_{3}ˏ_1}{a_{1}ˏ_1} & 0 & 0 \\\\\n",
       "\\end{array}\n",
       "\\right]\n",
       "\\end{equation}\n",
       " $$"
      ],
      "text/plain": [
       "2×3 Matrix{Num}:\n",
       " a₂ˏ₁ / a₁ˏ₁  (a₃ˏ₂ + (-a₁ˏ₂*a₂ˏ₁) / a₁ˏ₁) / (a₂ˏ₂ + (-a₁ˏ₂*a₂ˏ₁) / a₁ˏ₁)  0\n",
       " a₃ˏ₁ / a₁ˏ₁                                                            0  0"
      ]
     },
     "metadata": {},
     "output_type": "display_data"
    }
   ],
   "source": [
    "display(lu(a).L)\n",
    "L"
   ]
  },
  {
   "cell_type": "code",
   "execution_count": 81,
   "metadata": {},
   "outputs": [
    {
     "name": "stdout",
     "output_type": "stream",
     "text": [
      "\u001b[0m\u001b[1mTest Summary: | \u001b[22m\u001b[32m\u001b[1mPass  \u001b[22m\u001b[39m\u001b[36m\u001b[1mTotal  \u001b[22m\u001b[39m\u001b[0m\u001b[1mTime\u001b[22m\n",
      "LU_full       | \u001b[32m   2  \u001b[39m\u001b[36m    2  \u001b[39m\u001b[0m0.5s\n"
     ]
    },
    {
     "data": {
      "text/plain": [
       "Test.DefaultTestSet(\"LU_full\", Any[], 2, false, false, true, 1.715137673936e9, 1.715137674394e9, false, \"d:\\\\GitHub\\\\eco-hydro\\\\VegCurveFit.jl\\\\docs\\\\formula\\\\LU_Doolittle.ipynb\")"
      ]
     },
     "metadata": {},
     "output_type": "display_data"
    }
   ],
   "source": [
    "# 如果是带状矩阵，情况会如何 [k, p]\n",
    "n = 3\n",
    "a = Mat(:a, n)\n",
    "d = Vec(:d, n)\n",
    "\n",
    "## 将a转为对称矩阵\n",
    "for i = 1:n\n",
    "  for j = 1:i-1\n",
    "    a[i, j] = a[j, i]\n",
    "  end\n",
    "end\n",
    "\n",
    "# l, u = LU(a)\n",
    "@testset \"LU_full\" begin\n",
    "  l, u = LU(a)\n",
    "  r = lu(a)\n",
    "  @test l - r.L == u - r.U # 全部为0\n",
    "  @test det(u - r.U) == 0\n",
    "end\n",
    "\n",
    "# @testset \"LU_symmetry\" begin\n",
    "#   l, u = LU_symmetry(a)\n",
    "#   r = lu(a)\n",
    "#   @test l - r.L == u - r.U # 全部为0\n",
    "#   @test det(u - r.U) == 0\n",
    "# end\n"
   ]
  },
  {
   "cell_type": "code",
   "execution_count": 84,
   "metadata": {},
   "outputs": [
    {
     "data": {
      "text/latex": [
       "$$ \\begin{equation}\n",
       "\\left[\n",
       "\\begin{array}{c}\n",
       "a_{1}ˏ_1 \\\\\n",
       "a_{2}ˏ_2 - a_{1}ˏ_2 l_{2}ˏ_1 \\\\\n",
       "a_{3}ˏ_3 - a_{1}ˏ_3 l_{3}ˏ_1 - \\left( a_{2}ˏ_3 - a_{1}ˏ_3 l_{2}ˏ_1 \\right) l_{3}ˏ_2 \\\\\n",
       "\\end{array}\n",
       "\\right]\n",
       "\\end{equation}\n",
       " $$"
      ],
      "text/plain": [
       "3-element Vector{Num}:\n",
       "                                       a₁ˏ₁\n",
       "                           a₂ˏ₂ - a₁ˏ₂*l₂ˏ₁\n",
       " a₃ˏ₃ - a₁ˏ₃*l₃ˏ₁ - (a₂ˏ₃ - a₁ˏ₃*l₂ˏ₁)*l₃ˏ₂"
      ]
     },
     "metadata": {},
     "output_type": "display_data"
    }
   ],
   "source": [
    "# l2, u2 = LU_symmetry(a)\n",
    "# l2\n",
    "l, u, d = LU_symmetry(a)\n",
    "d"
   ]
  },
  {
   "cell_type": "code",
   "execution_count": 4,
   "metadata": {},
   "outputs": [
    {
     "data": {
      "text/latex": [
       "$$ \\begin{equation}\n",
       "\\left[\n",
       "\\begin{array}{cccc}\n",
       "b_{1}ˏ_1 & b_{1}ˏ_2 & b_{1}ˏ_3 & b_{1}ˏ_4 \\\\\n",
       "b_{2}ˏ_1 & b_{2}ˏ_2 & b_{2}ˏ_3 & b_{2}ˏ_4 \\\\\n",
       "b_{3}ˏ_1 & b_{3}ˏ_2 & b_{3}ˏ_3 & b_{3}ˏ_4 \\\\\n",
       "b_{4}ˏ_1 & b_{4}ˏ_2 & b_{4}ˏ_3 & b_{4}ˏ_4 \\\\\n",
       "\\end{array}\n",
       "\\right]\n",
       "\\end{equation}\n",
       " $$"
      ],
      "text/plain": [
       "4×4 Matrix{Num}:\n",
       " b₁ˏ₁  b₁ˏ₂  b₁ˏ₃  b₁ˏ₄\n",
       " b₂ˏ₁  b₂ˏ₂  b₂ˏ₃  b₂ˏ₄\n",
       " b₃ˏ₁  b₃ˏ₂  b₃ˏ₃  b₃ˏ₄\n",
       " b₄ˏ₁  b₄ˏ₂  b₄ˏ₃  b₄ˏ₄"
      ]
     },
     "metadata": {},
     "output_type": "display_data"
    }
   ],
   "source": [
    "n = 4\n",
    "L = tri_lower(:a, n)\n",
    "U = tri_upper(:a, n)\n",
    "U2 = L - diag_m(diag(L))\n",
    "B = Mat(:b, n)\n",
    "# U2"
   ]
  },
  {
   "cell_type": "code",
   "execution_count": 32,
   "metadata": {},
   "outputs": [
    {
     "data": {
      "text/latex": [
       "$$ \\begin{equation}\n",
       "\\left[\n",
       "\\begin{array}{cccc}\n",
       "0 & 0 & 0 & 0 \\\\\n",
       "a_{2}ˏ_1 b_{1}ˏ_1 & a_{2}ˏ_1 b_{1}ˏ_2 & a_{2}ˏ_1 b_{1}ˏ_3 & a_{2}ˏ_1 b_{1}ˏ_4 \\\\\n",
       "a_{3}ˏ_1 b_{1}ˏ_1 + a_{3}ˏ_2 b_{2}ˏ_1 & a_{3}ˏ_1 b_{1}ˏ_2 + a_{3}ˏ_2 b_{2}ˏ_2 & a_{3}ˏ_1 b_{1}ˏ_3 + a_{3}ˏ_2 b_{2}ˏ_3 & a_{3}ˏ_1 b_{1}ˏ_4 + a_{3}ˏ_2 b_{2}ˏ_4 \\\\\n",
       "a_{4}ˏ_1 b_{1}ˏ_1 + a_{4}ˏ_2 b_{2}ˏ_1 + a_{4}ˏ_3 b_{3}ˏ_1 & a_{4}ˏ_1 b_{1}ˏ_2 + a_{4}ˏ_2 b_{2}ˏ_2 + a_{4}ˏ_3 b_{3}ˏ_2 & a_{4}ˏ_1 b_{1}ˏ_3 + a_{4}ˏ_2 b_{2}ˏ_3 + a_{4}ˏ_3 b_{3}ˏ_3 & a_{4}ˏ_1 b_{1}ˏ_4 + a_{4}ˏ_2 b_{2}ˏ_4 + a_{4}ˏ_3 b_{3}ˏ_4 \\\\\n",
       "\\end{array}\n",
       "\\right]\n",
       "\\end{equation}\n",
       " $$"
      ],
      "text/plain": [
       "4×4 Matrix{Num}:\n",
       "                                 0.0  …                                  0.0\n",
       "                         a₂ˏ₁*b₁ˏ₁                               a₂ˏ₁*b₁ˏ₄\n",
       "             a₃ˏ₁*b₁ˏ₁ + a₃ˏ₂*b₂ˏ₁                   a₃ˏ₁*b₁ˏ₄ + a₃ˏ₂*b₂ˏ₄\n",
       " a₄ˏ₁*b₁ˏ₁ + a₄ˏ₂*b₂ˏ₁ + a₄ˏ₃*b₃ˏ₁       a₄ˏ₁*b₁ˏ₄ + a₄ˏ₂*b₂ˏ₄ + a₄ˏ₃*b₃ˏ₄"
      ]
     },
     "execution_count": 32,
     "metadata": {},
     "output_type": "execute_result"
    }
   ],
   "source": [
    "U2 * B "
   ]
  },
  {
   "cell_type": "code",
   "execution_count": 24,
   "metadata": {},
   "outputs": [
    {
     "data": {
      "text/latex": [
       "$$ \\begin{equation}\n",
       "\\left[\n",
       "\\begin{array}{cccccc}\n",
       "w_1 + x_1^{2} \\lambda &  - 3 x_1 x_2 \\lambda & 3 x_1 x_3 \\lambda &  - x_1 x_4 \\lambda & 0 & 0 \\\\\n",
       " - 3 x_1 x_2 \\lambda & w_2 + 10 x_2^{2} \\lambda &  - 12 x_2 x_3 \\lambda & 6 x_2 x_4 \\lambda &  - x_2 x_5 \\lambda & 0 \\\\\n",
       "3 x_1 x_3 \\lambda &  - 12 x_2 x_3 \\lambda & w_3 + 19 x_3^{2} \\lambda &  - 15 x_3 x_4 \\lambda & 6 x_3 x_5 \\lambda &  - x_3 x_6 \\lambda \\\\\n",
       " - x_1 x_4 \\lambda & 6 x_2 x_4 \\lambda &  - 15 x_3 x_4 \\lambda & w_4 + 19 x_4^{2} \\lambda &  - 12 x_4 x_5 \\lambda & 3 x_4 x_6 \\lambda \\\\\n",
       "0 &  - x_2 x_5 \\lambda & 6 x_3 x_5 \\lambda &  - 12 x_4 x_5 \\lambda & w_5 + 10 x_5^{2} \\lambda &  - 3 x_5 x_6 \\lambda \\\\\n",
       "0 & 0 &  - x_3 x_6 \\lambda & 3 x_4 x_6 \\lambda &  - 3 x_5 x_6 \\lambda & w_6 + x_6^{2} \\lambda \\\\\n",
       "\\end{array}\n",
       "\\right]\n",
       "\\end{equation}\n",
       " $$"
      ],
      "text/plain": [
       "6×6 Matrix{Num}:\n",
       " w₁ + (x₁^2)*λ          -3x₁*x₂*λ    …                0.0              0.0\n",
       "     -3x₁*x₂*λ    w₂ + 10(x₂^2)*λ              -x₂*x₅*λ                0.0\n",
       "      3x₁*x₃*λ         -12x₂*x₃*λ              6x₃*x₅*λ         -x₃*x₆*λ\n",
       "      -x₁*x₄*λ           6x₂*x₄*λ            -12x₄*x₅*λ         3x₄*x₆*λ\n",
       "             0.0         -x₂*x₅*λ       w₅ + 10(x₅^2)*λ        -3x₅*x₆*λ\n",
       "             0.0                0.0  …        -3x₅*x₆*λ    w₆ + (x₆^2)*λ"
      ]
     },
     "metadata": {},
     "output_type": "display_data"
    }
   ],
   "source": [
    "n = 6\n",
    "m = 3\n",
    "# @variables x[1:n]\n",
    "w = variables(:w, 1:n)\n",
    "x = variables(:x, 1:n)\n",
    "# x = 1:n\n",
    "X = diag_m(x)\n",
    "D = diff(X, m)\n",
    "\n",
    "M = diag_m(w[1:n]) + λ * D' * D\n",
    "display(M) # M是对称的，仅需一半的元素即可表示\n",
    "\n",
    "# lu(M).L"
   ]
  },
  {
   "cell_type": "code",
   "execution_count": 74,
   "metadata": {},
   "outputs": [
    {
     "data": {
      "text/latex": [
       "$$ \\begin{equation}\n",
       "\\left[\n",
       "\\begin{array}{cccccc}\n",
       "a_{1}ˏ_1 & a_{1}ˏ_2 & a_{1}ˏ_3 & a_{1}ˏ_4 & 0 & 0 \\\\\n",
       "0 & a_{2}ˏ_2 + \\frac{ - a_{1}ˏ_2 a_{1}ˏ_3}{a_{1}ˏ_1} & a_{2}ˏ_3 + \\frac{ - a_{1}ˏ_3 a_{1}ˏ_4}{a_{1}ˏ_1} & a_{2}ˏ_4 & a_{2}ˏ_5 & 0 \\\\\n",
       "0 & 0 & a_{3}ˏ_3 + \\frac{ - \\left( a_{2}ˏ_3 + \\frac{ - a_{1}ˏ_3 a_{1}ˏ_4}{a_{1}ˏ_1} \\right) a_{2}ˏ_5}{a_{2}ˏ_2 + \\frac{ - a_{1}ˏ_2 a_{1}ˏ_3}{a_{1}ˏ_1}} & a_{3}ˏ_4 & a_{3}ˏ_5 & a_{3}ˏ_6 \\\\\n",
       "0 & 0 & 0 & u_{4}ˏ_4 & u_{4}ˏ_5 & 0 \\\\\n",
       "0 & 0 & 0 & 0 & u_{5}ˏ_5 & 0 \\\\\n",
       "0 & 0 & 0 & 0 & 0 & 0 \\\\\n",
       "\\end{array}\n",
       "\\right]\n",
       "\\end{equation}\n",
       " $$"
      ],
      "text/plain": [
       "6×6 Matrix{Num}:\n",
       " a₁ˏ₁                        a₁ˏ₂  …  a₁ˏ₄     0     0\n",
       "    0  a₂ˏ₂ + (-a₁ˏ₂*a₁ˏ₃) / a₁ˏ₁     a₂ˏ₄  a₂ˏ₅     0\n",
       "    0                           0     a₃ˏ₄  a₃ˏ₅  a₃ˏ₆\n",
       "    0                           0     u₄ˏ₄  u₄ˏ₅     0\n",
       "    0                           0        0  u₅ˏ₅     0\n",
       "    0                           0  …     0     0     0"
      ]
     },
     "execution_count": 74,
     "metadata": {},
     "output_type": "execute_result"
    }
   ],
   "source": [
    "U = tri_upper(:u, n)\n",
    "m = 3\n",
    "for i = 1:n, j = min(i+m+1,n):n\n",
    "    U[i, j] = 0\n",
    "end\n",
    "\n",
    "for i = 1:3\n",
    "    for j = i:min(i+m,n)\n",
    "        # @show i, j\n",
    "        U[i, j] = A[i, j] \n",
    "        for k = 1:min(m, i-1)\n",
    "            i + j - 1 > n && continue\n",
    "            U[i, j] -= U[i-k, j] * U[i-k, i + j - 1] / U[i-k, i-k] #- U[i-2, j]^2 / U[i-2, i-2]\n",
    "        end\n",
    "    end\n",
    "end\n",
    "U"
   ]
  },
  {
   "cell_type": "code",
   "execution_count": 5,
   "metadata": {},
   "outputs": [
    {
     "data": {
      "text/latex": [
       "$$ \\begin{equation}\n",
       "\\left[\n",
       "\\begin{array}{cccc}\n",
       "1 & 0 & 0 & 0 \\\\\n",
       "\\frac{ - 3 x_1 x_2 \\lambda}{w_1 + x_1^{2} \\lambda} & 1 & 0 & 0 \\\\\n",
       "\\frac{3 x_1 x_3 \\lambda}{w_1 + x_1^{2} \\lambda} & \\frac{\\frac{9 \\lambda^{2} x_1^{2} x_2 x_3}{w_1 + x_1^{2} \\lambda} - 9 x_2 x_3 \\lambda}{w_2 + \\frac{ - 9 \\lambda^{2} x_2^{2} x_1^{2}}{w_1 + x_1^{2} \\lambda} + 9 x_2^{2} \\lambda} & 1 & 0 \\\\\n",
       "\\frac{ - x_1 x_4 \\lambda}{w_1 + x_1^{2} \\lambda} & \\frac{\\frac{ - 3 \\lambda^{2} x_1^{2} x_2 x_4}{w_1 + x_1^{2} \\lambda} + 3 x_2 x_4 \\lambda}{w_2 + \\frac{ - 9 \\lambda^{2} x_2^{2} x_1^{2}}{w_1 + x_1^{2} \\lambda} + 9 x_2^{2} \\lambda} & \\frac{\\frac{ - \\left( \\frac{9 \\lambda^{2} x_1^{2} x_2 x_3}{w_1 + x_1^{2} \\lambda} - 9 x_2 x_3 \\lambda \\right) \\left( \\frac{ - 3 \\lambda^{2} x_1^{2} x_2 x_4}{w_1 + x_1^{2} \\lambda} + 3 x_2 x_4 \\lambda \\right)}{w_2 + \\frac{ - 9 \\lambda^{2} x_2^{2} x_1^{2}}{w_1 + x_1^{2} \\lambda} + 9 x_2^{2} \\lambda} + \\frac{3 \\lambda^{2} x_1^{2} x_3 x_4}{w_1 + x_1^{2} \\lambda} - 3 x_3 x_4 \\lambda}{w_3 + \\frac{ - 9 \\lambda^{2} x_3^{2} x_1^{2}}{w_1 + x_1^{2} \\lambda} + \\frac{ - \\left( \\frac{9 \\lambda^{2} x_1^{2} x_2 x_3}{w_1 + x_1^{2} \\lambda} - 9 x_2 x_3 \\lambda \\right)^{2}}{w_2 + \\frac{ - 9 \\lambda^{2} x_2^{2} x_1^{2}}{w_1 + x_1^{2} \\lambda} + 9 x_2^{2} \\lambda} + 9 x_3^{2} \\lambda} & 1 \\\\\n",
       "\\end{array}\n",
       "\\right]\n",
       "\\end{equation}\n",
       " $$"
      ],
      "text/plain": [
       "4×4 Matrix{Num}:\n",
       "                             1  …  0\n",
       " (-3x₁*x₂*λ) / (w₁ + (x₁^2)*λ)     0\n",
       "  (3x₁*x₃*λ) / (w₁ + (x₁^2)*λ)     0\n",
       "  (-x₁*x₄*λ) / (w₁ + (x₁^2)*λ)     1"
      ]
     },
     "execution_count": 5,
     "metadata": {},
     "output_type": "execute_result"
    }
   ],
   "source": [
    "r = lu(M)\n",
    "r.L"
   ]
  }
 ],
 "metadata": {
  "kernelspec": {
   "display_name": "Julia 1.10.3",
   "language": "julia",
   "name": "julia-1.10"
  },
  "language_info": {
   "file_extension": ".jl",
   "mimetype": "application/julia",
   "name": "julia",
   "version": "1.10.3"
  }
 },
 "nbformat": 4,
 "nbformat_minor": 4
}
